{
  "nbformat": 4,
  "nbformat_minor": 0,
  "metadata": {
    "colab": {
      "provenance": [],
      "collapsed_sections": [
        "szp5flp1fA8-",
        "iNcDJ45bGtYk",
        "ZWDxpIPUFfda",
        "i1mBd8gGFvBV",
        "MYQL57cD2ejS",
        "jIHKROStFMcR",
        "wLDO_IRrFw7z",
        "ExVB2joZF0rk",
        "3MqIpFTOF1m9",
        "NKq_qwCsF3Dj",
        "wvdngkOTF4Hi",
        "Q19Wm90DF5zf",
        "YSY2k7S3F6d7",
        "ykj42UNeF7K5",
        "QSKeBTgXHRAv",
        "0epVLhL0F88U",
        "8FCFQaq1Hizh",
        "BhKPZQJZF9w0",
        "I0mklEluF-jI",
        "eFehWNexGASC",
        "WbqugasGGCKJ",
        "hN_fvENUGBAm",
        "vteEy9QFGD5I",
        "VXxx7RCVSs4j",
        "jpo7oASHGEu7",
        "pE5o0-VMaIy3",
        "D7ASvHg3b2Ph"
      ],
      "toc_visible": true,
      "include_colab_link": true
    },
    "kernelspec": {
      "name": "python3",
      "display_name": "Python 3"
    },
    "language_info": {
      "name": "python"
    },
    "widgets": {
      "application/vnd.jupyter.widget-state+json": {
        "3a061f3829cc422e873d83770d33f9b0": {
          "model_module": "@jupyter-widgets/controls",
          "model_name": "VBoxModel",
          "model_module_version": "1.5.0",
          "state": {
            "_dom_classes": [
              "widget-interact"
            ],
            "_model_module": "@jupyter-widgets/controls",
            "_model_module_version": "1.5.0",
            "_model_name": "VBoxModel",
            "_view_count": null,
            "_view_module": "@jupyter-widgets/controls",
            "_view_module_version": "1.5.0",
            "_view_name": "VBoxView",
            "box_style": "",
            "children": [
              "IPY_MODEL_f6e2e995be894059a2ca5856f9f99346",
              "IPY_MODEL_87ff0cb34ad74483960900a46d76d509",
              "IPY_MODEL_0d674b034d814fa6912e56c881c70288"
            ],
            "layout": "IPY_MODEL_3422ba65952e4b77ad2e852af6ab5d80"
          }
        },
        "f6e2e995be894059a2ca5856f9f99346": {
          "model_module": "@jupyter-widgets/controls",
          "model_name": "IntSliderModel",
          "model_module_version": "1.5.0",
          "state": {
            "_dom_classes": [],
            "_model_module": "@jupyter-widgets/controls",
            "_model_module_version": "1.5.0",
            "_model_name": "IntSliderModel",
            "_view_count": null,
            "_view_module": "@jupyter-widgets/controls",
            "_view_module_version": "1.5.0",
            "_view_name": "IntSliderView",
            "continuous_update": true,
            "description": "m",
            "description_tooltip": null,
            "disabled": false,
            "layout": "IPY_MODEL_48a617d22f844796a03b0711aacf8c02",
            "max": 9,
            "min": -9,
            "orientation": "horizontal",
            "readout": true,
            "readout_format": "d",
            "step": 1,
            "style": "IPY_MODEL_836eb9f801414bd781b850a8f120a4c2",
            "value": 0
          }
        },
        "87ff0cb34ad74483960900a46d76d509": {
          "model_module": "@jupyter-widgets/controls",
          "model_name": "IntSliderModel",
          "model_module_version": "1.5.0",
          "state": {
            "_dom_classes": [],
            "_model_module": "@jupyter-widgets/controls",
            "_model_module_version": "1.5.0",
            "_model_name": "IntSliderModel",
            "_view_count": null,
            "_view_module": "@jupyter-widgets/controls",
            "_view_module_version": "1.5.0",
            "_view_name": "IntSliderView",
            "continuous_update": true,
            "description": "b",
            "description_tooltip": null,
            "disabled": false,
            "layout": "IPY_MODEL_da6ce68deaa3450a8f4886cf8e105873",
            "max": 9,
            "min": -9,
            "orientation": "horizontal",
            "readout": true,
            "readout_format": "d",
            "step": 1,
            "style": "IPY_MODEL_1e46edd2ffec46e6ad3ae50fd1593638",
            "value": 0
          }
        },
        "0d674b034d814fa6912e56c881c70288": {
          "model_module": "@jupyter-widgets/output",
          "model_name": "OutputModel",
          "model_module_version": "1.0.0",
          "state": {
            "_dom_classes": [],
            "_model_module": "@jupyter-widgets/output",
            "_model_module_version": "1.0.0",
            "_model_name": "OutputModel",
            "_view_count": null,
            "_view_module": "@jupyter-widgets/output",
            "_view_module_version": "1.0.0",
            "_view_name": "OutputView",
            "layout": "IPY_MODEL_203c484651e94ecc91fc0618d2fdedd9",
            "msg_id": "",
            "outputs": [
              {
                "output_type": "display_data",
                "data": {
                  "text/plain": "<Figure size 640x480 with 1 Axes>",
                  "image/png": "iVBORw0KGgoAAAANSUhEUgAAAkcAAAGzCAYAAAAlqLNlAAAAOXRFWHRTb2Z0d2FyZQBNYXRwbG90bGliIHZlcnNpb24zLjcuMSwgaHR0cHM6Ly9tYXRwbG90bGliLm9yZy/bCgiHAAAACXBIWXMAAA9hAAAPYQGoP6dpAAAwoElEQVR4nO3deXCUVb7/8U8HSAcIaZZsREMIqAREFlFiMjMCQ8bA4ILDOBgXFhGVC4wYxpFYCgLXiQsqo3JFa5A4Fze0FJdBvIigFwkgEVQQMoYfEEASVEw3CdrZzu8Pi76nyQLBpDuE96vqqeI5zznP8z08kP7U0yfdDmOMEQAAACRJIcEuAAAAoDkhHAEAAFgIRwAAABbCEQAAgIVwBAAAYCEcAQAAWAhHAAAAFsIRAACAhXAEAABgIRwBQIAMHTpUffv2DXYZAE6CcAQAAGAhHAEAAFgIRwDQAHv37pXD4dC6deuCXQqAJkI4AlDD2rVr5XA49Oabb9Y49tJLL8nhcCg3Nzcgtaxbt04Oh0PLly/X3Llzdc4556hDhw764x//KLfbLa/XqxkzZig6Olrh4eGaOHGivF6vb/zSpUvlcDj0/PPP+533b3/7mxwOh1auXBmQedjy8vKUmpqqtm3bKjExUYsXLw54DQDq5jDGmGAXAaB5McYoISFBgwcP1uuvv+53bNSoUcrPz1dBQUGd46urq3XkyJFTupbL5VKbNm3qPL5u3ToNGzZMAwYMUNu2bZWRkaGCggI99dRTGjt2rEJCQvTDDz/oyiuv1MaNG/Xf//3fmjt3rmbPnu07x1VXXaX//d//1Zdffqn4+Hh9+eWXuuSSS3TzzTfrH//4xynVedzevXuVmJiotWvXaujQoQ0aO3ToUH399deqrKzUn/70J11wwQVavny51q9fryVLluiWW25p0PkANBEDALXIysoyTqfTlJSU+NoOHz5sWrdubebMmVPv2D179hhJp7StXbu23nOtXbvWSDJ9+/Y15eXlvvaMjAzjcDjMyJEj/fqnpKSYhIQEv7ZDhw6Zzp07m9/97nfG6/WagQMHmm7duhm3231Kfxe1ze1kdddmyJAhRpJ57LHHfG1er9cMGDDAREdH+80PQPC0DkoiA9DsjRs3TtnZ2Xr99dc1adIkSdKrr76qyspK3XTTTfWOjY2N1erVq0/pOv379z/leuwnTMnJyXr55ZdrPG1JTk7Wk08+qcrKSrVu3dpXz6JFi5SRkaHf/OY32rZtm1avXq2IiIiTXre0tFQ//fSTb/+HH36QJLndbn333Xe+9jZt2sjlcp30fK1bt9btt9/u2w8NDdXtt9+uKVOmKC8vT5dddtlJzwGgaRGOANQqKSlJl156qV588UVfOHrxxRd12WWX6bzzzqt3bFhYmNLS0hq1nm7duvntHw8i8fHxNdqrq6vldrvVpUsXX/v111+vZcuW6V//+pduu+02DR8+/JSuO23aNL3wwgs12kePHu23P2TIkFNapB0XF6f27dv7tV1wwQWSfn7LjnAEBB/hCECdxo0bpzvvvFMHDhyQ1+vVxo0b9fTTT590XFVVlb799ttTukbnzp0VGhp60n6tWrVqULs5YTnl999/ry1btkiSvvrqK1VXVysk5OS/k/LXv/7V70lZcXGxbrrpJi1YsMDvqVenTp1Oei4AZwbCEYA6XX/99crMzNTLL7+sH3/8UW3atNHYsWNPOm7//v1KTEw8pWuczsLm0zF16lQdPXpU2dnZysrK0sKFC5WZmXnScX369FGfPn18+3v37pUkDRo06LTq/uabb1RWVub39Ojf//63JKl79+4NPh+Axkc4AlCnyMhIjRw5UsuWLdNPP/2kESNGKDIy8qTjmmLN0S/x+uuv69VXX9WTTz6p6dOn6/PPP9d9992nK6+80veWVqBUVlbq2Wef9QWz8vJyPfvss4qKitKgQYMCWguA2hGOANRr3Lhx+uMf/yhJmj9//imNaYo1R6fr8OHDmjJlioYNG6Zp06ZJkp5++mmtXbtWEyZM0Pr160/p7bXGEhcXp4cfflh79+7VBRdcoFdffVXbtm3Tc889V+9HGgAIHD4EEkC9rrrqKnXq1Ekul0tXX311sMtpsClTpsjr9fo+DFKSunTpoueee065ublasGBBQOvp1KmTVq5cqS1btujuu+/W/v379fTTT2vy5MkBrQNA3fgQSAD1qqysVFxcnK666iotWbIk2OUAQJPjyRGAeq1YsULffvutxo0bF+xSACAgeHIEoFabNm3SF198ofnz5ysyMlKfffZZsEsCgIDgyRGAWj3zzDOaMmWKoqOj9c9//jPY5QBAwDRpOPr444911VVXKS4uTg6HQytWrPA7bozR7Nmz1bVrV7Vt21ZpaWn6+uuvT3reRYsWqXv37goLC1NycrI2b97cRDMAzl45OTmqrKzUli1b1Ldv32CXAwAB06ThqKysTP3799eiRYtqPf7II4/oySef1OLFi7Vp0ya1b99e6enpft9jdKJXX31VmZmZmjNnjj777DP1799f6enpOnz4cFNNAwAAnEUCtubI4XDozTff9H0fkTFGcXFxmjlzpv7yl79I+vmLHGNiYpSTk6Prr7++1vMkJyfr0ksv9X2FQXV1teLj4zV9+nTNmjUrEFMBAAAtWNA+BHLPnj0qKiry+6A4l8ul5ORk5ebm1hqOysvLlZeXp6ysLF9bSEiI0tLSlJubW+e1vF6vvF6vb7+6ulpHjhxRly5dfJ97AgAAmjdjjI4ePaq4uLgm/fDWoIWjoqIiSVJMTIxfe0xMjO/Yib777jtVVVXVOmbXrl11Xis7O1tz5879hRUDAIDmYP/+/Tr33HOb7PxnxdeHZGVl+X3BpNvtVrdu3bR//35FREQEsTIAjamsrExxcXGSfv6CV/vLXQGc+Twej+Lj49WhQ4cmvU7QwlFsbKwkqbi4WF27dvW1FxcXa8CAAbWOiYyMVKtWrVRcXOzXXlxc7DtfbZxOp5xOZ432iIgIwhHQgrRq1cr354iICMIR0EI19ZKYoH3OUWJiomJjY7VmzRpfm8fj0aZNm5SSklLrmNDQUA0aNMhvTHV1tdasWVPnGAAAgIZo0idHpaWlKigo8O3v2bNH27ZtU+fOndWtWzfNmDFD//mf/6nzzz9fiYmJuv/++xUXF+f7jTZJGj58uK699lrft2lnZmZq/PjxuuSSSzR48GAtXLhQZWVlmjhxYlNOBQAAnCWaNBxt2bJFw4YN8+0fX/czfvx45eTk6K9//avKysp02223qaSkRL/+9a+1atUqhYWF+cbs3r1b3333nW9/7Nix+vbbbzV79mwVFRVpwIABWrVqVY1F2gAAAKfjrPxuNY/HI5fLJbfbzZojoAUpKytTeHi4pJ+fXLPmCGhZAvX6zXerAQAAWAhHAAAAFsIRAACAhXAEAABgIRwBAABYCEcAAAAWwhEAAICFcAQAAGAhHAEAAFgIRwAAABbCEQAAgIVwBAAAYCEcAQAAWAhHAAAAFsIRAACAhXAEAABgIRwBAABYCEcAAAAWwhEAAICFcAQAAGAhHAEAAFgIRwAAABbCEQAAgIVwBAAAYCEcAQAAWAhHAAAAFsIRAACAhXAEAABgIRwBAABYCEcAAAAWwhEAAICFcAQAAGAhHAEAAFgIRwAAABbCEQAAgCXo4ah79+5yOBw1tqlTp9baPycnp0bfsLCwAFcNAABaqtbBLuDTTz9VVVWVb3/79u363e9+p+uuu67OMREREcrPz/ftOxyOJq0RAACcPYIejqKiovz2H3roIfXs2VNDhgypc4zD4VBsbGxTlwYAAM5CQX9bzVZeXq5ly5bplltuqfdpUGlpqRISEhQfH69rrrlGO3bsqPe8Xq9XHo/HbwMAAKhNswpHK1asUElJiSZMmFBnn169eun555/XW2+9pWXLlqm6ulqpqak6cOBAnWOys7Plcrl8W3x8fBNUDwAAWgKHMcYEu4jj0tPTFRoaqnfeeeeUx1RUVKh3797KyMjQ/Pnza+3j9Xrl9Xp9+x6PR/Hx8XK73YqIiPjFdQNoHsrKyhQeHi7p5yfM7du3D3JFABqTx+ORy+Vq8tfvoK85Om7fvn364IMP9MYbbzRoXJs2bTRw4EAVFBTU2cfpdMrpdP7SEgEAwFmg2byttnTpUkVHR2vUqFENGldVVaUvv/xSXbt2baLKAADA2aRZhKPq6motXbpU48ePV+vW/g+zxo0bp6ysLN/+vHnz9D//8z/6f//v/+mzzz7TTTfdpH379unWW28NdNkAAKAFahZvq33wwQcqLCzULbfcUuNYYWGhQkL+L8P98MMPmjx5soqKitSpUycNGjRIGzZsUJ8+fQJZMgAAaKGa1YLsQAnUgi4AgcWCbKBlC9Trd7N4Ww0AAKC5IBwBAABYCEcAAAAWwhEAAICFcAQAAGAhHAEAAFgIRwAAABbCEQAAgIVwBAAAYCEcAQAAWAhHAAAAFsIRAACAhXAEAABgIRwBAABYCEcAAAAWwhEAAICFcAQAAGAhHAEAAFgIRwAAABbCEQAAgIVwBAAAYCEcAQAAWAhHAAAAFsIRAACAhXAEAABgIRwBAABYCEcAAAAWwhEAAICFcAQAAGAhHAEAAFgIRwAAABbCEQAAgIVwBAAAYCEcAQAAWAhHAAAAlqCHowceeEAOh8NvS0pKqnfMa6+9pqSkJIWFhemiiy7SypUrA1QtAABo6YIejiTpwgsv1KFDh3zb+vXr6+y7YcMGZWRkaNKkSdq6datGjx6t0aNHa/v27QGsGAAAtFTNIhy1bt1asbGxvi0yMrLOvn//+981YsQI3X333erdu7fmz5+viy++WE8//XQAKwYAAC1VswhHX3/9teLi4tSjRw/deOONKiwsrLNvbm6u0tLS/NrS09OVm5tb5xiv1yuPx+O3AQAA1Cbo4Sg5OVk5OTlatWqVnnnmGe3Zs0e/+c1vdPTo0Vr7FxUVKSYmxq8tJiZGRUVFdV4jOztbLpfLt8XHxzfqHAAAQMsR9HA0cuRIXXfdderXr5/S09O1cuVKlZSUaPny5Y12jaysLLndbt+2f//+Rjs3AABoWVoHu4ATdezYURdccIEKCgpqPR4bG6vi4mK/tuLiYsXGxtZ5TqfTKafT2ah1AgCAlinoT45OVFpaqt27d6tr1661Hk9JSdGaNWv82lavXq2UlJRAlAcAAFq4oIejv/zlL/roo4+0d+9ebdiwQddee61atWqljIwMSdK4ceOUlZXl63/nnXdq1apVeuyxx7Rr1y498MAD2rJli6ZNmxasKQAAgBYk6G+rHThwQBkZGfr+++8VFRWlX//619q4caOioqIkSYWFhQoJ+b8Ml5qaqpdeekn33Xef7r33Xp1//vlasWKF+vbtG6wpAACAFsRhjDHBLiLQPB6PXC6X3G63IiIigl0OgEZSVlam8PBwST+/Rd++ffsgVwSgMQXq9Tvob6sBAAA0J4QjAAAAC+EIAADAQjgCAACwEI4AAAAshCMAAAAL4QgAAMBCOAIAALAQjgAAACyEIwAAAAvhCAAAwEI4AgAAsBCOAAAALIQjAAAAC+EIAADAQjgCAACwEI4AAAAshCMAAAAL4QgAAMBCOAIAALAQjgAAACyEIwAAAAvhCAAAwEI4AgAAsBCOAAAALIQjAAAAC+EIAADAQjgCAACwEI4AAAAshCMAAAAL4QgAAMBCOAIAALAQjgAAACyEIwAAAAvhCAAAwBL0cJSdna1LL71UHTp0UHR0tEaPHq38/Px6x+Tk5MjhcPhtYWFhAaoYAAC0ZEEPRx999JGmTp2qjRs3avXq1aqoqNAVV1yhsrKyesdFRETo0KFDvm3fvn0BqhgAALRkrYNdwKpVq/z2c3JyFB0drby8PF1++eV1jnM4HIqNjW3q8gAAwFkm6E+OTuR2uyVJnTt3rrdfaWmpEhISFB8fr2uuuUY7duyos6/X65XH4/HbAAAAatOswlF1dbVmzJihX/3qV+rbt2+d/Xr16qXnn39eb731lpYtW6bq6mqlpqbqwIEDtfbPzs6Wy+XybfHx8U01BQAAcIZzGGNMsIs4bsqUKXrvvfe0fv16nXvuuac8rqKiQr1791ZGRobmz59f47jX65XX6/XtezwexcfHy+12KyIiolFqBxB8ZWVlCg8Pl/Tz0+X27dsHuSIAjcnj8cjlcjX563fQ1xwdN23aNL377rv6+OOPGxSMJKlNmzYaOHCgCgoKaj3udDrldDobo0wAANDCBf1tNWOMpk2bpjfffFMffvihEhMTG3yOqqoqffnll+ratWsTVAgAAM4mQX9yNHXqVL300kt666231KFDBxUVFUmSXC6X2rZtK0kaN26czjnnHGVnZ0uS5s2bp8suu0znnXeeSkpK9Oijj2rfvn269dZbgzYPAADQMgQ9HD3zzDOSpKFDh/q1L126VBMmTJAkFRYWKiTk/x5y/fDDD5o8ebKKiorUqVMnDRo0SBs2bFCfPn0CVTYAAGihmtWC7EAJ1IIuAIHFgmygZQvU63fQ1xwBAAA0J4QjAAAAC+EIAADAQjgCAACwEI4AAAAshCMAAAAL4QgAAMBCOAIAALAQjgAAACyEIwAAAAvhCAAAwEI4AgAAsBCOAAAALIQjAAAAC+EIAADAQjgCAACwEI4AAAAshCMAAAAL4QgAAMBCOAIAALAQjgAAACyEIwAAAAvhCAAAwEI4AgAAsBCOAAAALIQjAAAAC+EIAADAQjgCAACwEI4AAAAshCMAAAAL4QgAAMBCOAIAALAQjgAAACyEIwAAAAvhCAAAwEI4AgAAsDSLcLRo0SJ1795dYWFhSk5O1ubNm+vt/9prrykpKUlhYWG66KKLtHLlygBVCgAAWrrWwS7g1VdfVWZmphYvXqzk5GQtXLhQ6enpys/PV3R0dI3+GzZsUEZGhrKzs3XllVfqpZde0ujRo/XZZ5+pb9++Dbr2dz945K1qrJkACLZjx8rkaOOUJH1X4tGxcv6DAy3JUY8nINdxGGNMQK5Uh+TkZF166aV6+umnJUnV1dWKj4/X9OnTNWvWrBr9x44dq7KyMr377ru+tssuu0wDBgzQ4sWLa72G1+uV1+v17Xs8HsXHxyt+xnKFONs18owAAEBTqPYe0/6Ff5Lb7VZERESTXSeob6uVl5crLy9PaWlpvraQkBClpaUpNze31jG5ubl+/SUpPT29zv6SlJ2dLZfL5dvi4+MbZwIAAKDFCerbat99952qqqoUExPj1x4TE6Ndu3bVOqaoqKjW/kVFRXVeJysrS5mZmb7940+O1s1IUYcmTJ4AAuvYsTIlJiZKkvbs2aN27doHuSIAjemox6OeC5v+OkFfcxQITqdTTqezRntkp4gmfSwHILDKQlvJVPz8Fnpkxwi1b084AloSZ6vAXCeob6tFRkaqVatWKi4u9msvLi5WbGxsrWNiY2Mb1B8AAKAhghqOQkNDNWjQIK1Zs8bXVl1drTVr1iglJaXWMSkpKX79JWn16tV19gcAAGiIoL+tlpmZqfHjx+uSSy7R4MGDtXDhQpWVlWnixImSpHHjxumcc85Rdna2JOnOO+/UkCFD9Nhjj2nUqFF65ZVXtGXLFj333HPBnAYAAGghgh6Oxo4dq2+//VazZ89WUVGRBgwYoFWrVvkWXRcWFiok5P8ecKWmpuqll17Sfffdp3vvvVfnn3++VqxY0eDPOAIAAKhN0D/nKBg8Ho9cLleTf04CgMAqKytTeHi4JKm0tJQF2UALE6jX72bx9SEAAADNBeEIAADAQjgCAACwEI4AAAAshCMAAAAL4QgAAMBCOAIAALAQjgAAACyEIwAAAAvhCAAAwEI4AgAAsBCOAAAALIQjAAAAC+EIAADAQjgCAACwEI4AAAAshCMAAAAL4QgAAMBCOAIAALAQjgAAACyEIwAAAAvhCAAAwEI4AgAAsBCOAAAALIQjAAAAC+EIAADAQjgCAACwEI4AAAAshCMAAAAL4QgAAMBCOAIAALAQjgAAACyEIwAAAAvhCAAAwEI4AgAAsAQtHO3du1eTJk1SYmKi2rZtq549e2rOnDkqLy+vd9zQoUPlcDj8tjvuuCNAVQMAgJaudbAuvGvXLlVXV+vZZ5/Veeedp+3bt2vy5MkqKyvTggUL6h07efJkzZs3z7ffrl27pi4XAACcJYIWjkaMGKERI0b49nv06KH8/Hw988wzJw1H7dq1U2xsbFOXCAAAzkLNas2R2+1W586dT9rvxRdfVGRkpPr27ausrCwdO3as3v5er1cej8dvAwAAqE3QnhydqKCgQE899dRJnxrdcMMNSkhIUFxcnL744gvdc889ys/P1xtvvFHnmOzsbM2dO7exSwYAAC2QwxhjGvOEs2bN0sMPP1xvn507dyopKcm3f/DgQQ0ZMkRDhw7VP/7xjwZd78MPP9Tw4cNVUFCgnj171trH6/XK6/X69j0ej+Lj4+V2uxUREdGg6wFovsrKyhQeHi5JKi0tVfv27YNcEYDG5PF45HK5mvz1u9GfHM2cOVMTJkyot0+PHj18f/7mm280bNgwpaam6rnnnmvw9ZKTkyWp3nDkdDrldDobfG4AAHD2afRwFBUVpaioqFPqe/DgQQ0bNkyDBg3S0qVLFRLS8CVQ27ZtkyR17dq1wWMBAABOFLQF2QcPHtTQoUPVrVs3LViwQN9++62KiopUVFTk1ycpKUmbN2+WJO3evVvz589XXl6e9u7dq7ffflvjxo3T5Zdfrn79+gVrKgAAoAUJ2oLs1atXq6CgQAUFBTr33HP9jh1fBlVRUaH8/Hzfb6OFhobqgw8+0MKFC1VWVqb4+HiNGTNG9913X8DrBwAALVOjL8g+EwRqQReAwGJBNtCyBer1u1l9zhEAAECwEY4AAAAshCMAAAAL4QgAAMBCOAIAALAQjgAAACyEIwAAAAvhCAAAwEI4AgAAsBCOAAAALIQjAAAAC+EIAADAQjgCAACwEI4AAAAshCMAAAAL4QgAAMBCOAIAALAQjgAAACyEIwAAAAvhCAAAwEI4AgAAsBCOAAAALIQjAAAAC+EIAADAQjgCAACwEI4AAAAshCMAAAAL4QgAAMBCOAIAALAQjgAAACyEIwAAAAvhCAAAwEI4AgAAsBCOAAAALIQjAAAAS1DDUffu3eVwOPy2hx56qN4xP/30k6ZOnaouXbooPDxcY8aMUXFxcYAqBgAALV3QnxzNmzdPhw4d8m3Tp0+vt/9dd92ld955R6+99po++ugjffPNN/rDH/4QoGoBAEBL1zrYBXTo0EGxsbGn1NftdmvJkiV66aWX9Nvf/laStHTpUvXu3VsbN27UZZdd1pSlAgCAs0DQnxw99NBD6tKliwYOHKhHH31UlZWVdfbNy8tTRUWF0tLSfG1JSUnq1q2bcnNz6xzn9Xrl8Xj8NgAAgNoE9cnRn//8Z1188cXq3LmzNmzYoKysLB06dEiPP/54rf2LiooUGhqqjh07+rXHxMSoqKiozutkZ2dr7ty5jVk6AABooRr9ydGsWbNqLLI+cdu1a5ckKTMzU0OHDlW/fv10xx136LHHHtNTTz0lr9fbqDVlZWXJ7Xb7tv379zfq+QEAQMvR6E+OZs6cqQkTJtTbp0ePHrW2Jycnq7KyUnv37lWvXr1qHI+NjVV5eblKSkr8nh4VFxfXu27J6XTK6XSeUv0AAODs1ujhKCoqSlFRUac1dtu2bQoJCVF0dHStxwcNGqQ2bdpozZo1GjNmjCQpPz9fhYWFSklJOe2aAQAAjgvamqPc3Fxt2rRJw4YNU4cOHZSbm6u77rpLN910kzp16iRJOnjwoIYPH65//vOfGjx4sFwulyZNmqTMzEx17txZERERmj59ulJSUvhNNQAA0CiCFo6cTqdeeeUVPfDAA/J6vUpMTNRdd92lzMxMX5+Kigrl5+fr2LFjvrYnnnhCISEhGjNmjLxer9LT0/Vf//VfwZgCAABogRzGGBPsIgLN4/HI5XLJ7XYrIiIi2OUAaCRlZWUKDw+XJJWWlqp9+/ZBrghAYwrU63fQP+cIAACgOSEcAQAAWAhHAAAAFsIRAACAhXAEAABgIRwBAABYCEcAAAAWwhEAAICFcAQAAGAhHAEAAFgIRwAAABbCEQAAgIVwBAAAYCEcAQAAWAhHAAAAFsIRAACAhXAEAABgIRwBAABYCEcAAAAWwhEAAICFcAQAAGAhHAEAAFgIRwAAABbCEQAAgIVwBAAAYCEcAQAAWAhHAAAAFsIRAACAhXAEAABgIRwBAABYCEcAAAAWwhEAAICFcAQAAGAhHAEAAFgIRwAAAJaghaN169bJ4XDUun366ad1jhs6dGiN/nfccUcAKwcAAC1Z62BdODU1VYcOHfJru//++7VmzRpdcskl9Y6dPHmy5s2b59tv165dk9QIAADOPkELR6GhoYqNjfXtV1RU6K233tL06dPlcDjqHduuXTu/sQAAAI2l2aw5evvtt/X9999r4sSJJ+374osvKjIyUn379lVWVpaOHTtWb3+v1yuPx+O3AQAA1CZoT45OtGTJEqWnp+vcc8+tt98NN9yghIQExcXF6YsvvtA999yj/Px8vfHGG3WOyc7O1ty5cxu7ZAAA0AI5jDGmMU84a9YsPfzww/X22blzp5KSknz7Bw4cUEJCgpYvX64xY8Y06Hoffvihhg8froKCAvXs2bPWPl6vV16v17fv8XgUHx8vt9utiIiIBl0PQPNVVlam8PBwSVJpaanat28f5IoANCaPxyOXy9Xkr9+N/uRo5syZmjBhQr19evTo4be/dOlSdenSRVdffXWDr5ecnCxJ9YYjp9Mpp9PZ4HMDAICzT6OHo6ioKEVFRZ1yf2OMli5dqnHjxqlNmzYNvt62bdskSV27dm3wWAAAgBMFfUH2hx9+qD179ujWW2+tcezgwYNKSkrS5s2bJUm7d+/W/PnzlZeXp7179+rtt9/WuHHjdPnll6tfv36BLh0AALRAQV+QvWTJEqWmpvqtQTquoqJC+fn5vt9GCw0N1QcffKCFCxeqrKxM8fHxGjNmjO67775Alw0AAFqoRl+QfSYI1IIuAIHFgmygZQvU63fQ31YDAABoTghHAAAAFsIRAACAhXAEAABgIRwBAABYCEcAAAAWwhEAAICFcAQAAGAhHAEAAFgIRwAAABbCEQAAgIVwBAAAYCEcAQAAWAhHAAAAFsIRAACAhXAEAABgIRwBAABYCEcAAAAWwhEAAICFcAQAAGAhHAEAAFgIRwAAABbCEQAAgIVwBAAAYCEcAQAAWAhHAAAAFsIRAACAhXAEAABgIRwBAABYCEcAAAAWwhEAAICFcAQAAGAhHAEAAFgIRwAAABbCEQAAgKXJwtGDDz6o1NRUtWvXTh07dqy1T2FhoUaNGqV27dopOjpad999tyorK+s975EjR3TjjTcqIiJCHTt21KRJk1RaWtoEMwAAAGejJgtH5eXluu666zRlypRaj1dVVWnUqFEqLy/Xhg0b9MILLygnJ0ezZ8+u97w33nijduzYodWrV+vdd9/Vxx9/rNtuu60ppgAAAM5CDmOMacoL5OTkaMaMGSopKfFrf++993TllVfqm2++UUxMjCRp8eLFuueee/Ttt98qNDS0xrl27typPn366NNPP9Ull1wiSVq1apV+//vf68CBA4qLizulmjwej1wul9xutyIiIn7ZBAE0G2VlZQoPD5cklZaWqn379kGuCEBjCtTrd+smO/NJ5Obm6qKLLvIFI0lKT0/XlClTtGPHDg0cOLDWMR07dvQFI0lKS0tTSEiINm3apGuvvbbWa3m9Xnm9Xt++2+2W9PNfMoCWo6yszPdnj8ejqqqqIFYDoLEdf91u4uc6wQtHRUVFfsFIkm+/qKiozjHR0dF+ba1bt1bnzp3rHCNJ2dnZmjt3bo32+Pj4hpYN4Axxqk+SAZx5vv/+e7lcriY7f4PC0axZs/Twww/X22fnzp1KSkr6RUU1tqysLGVmZvr2S0pKlJCQoMLCwib9y21uPB6P4uPjtX///rPq7UTmzbzPBsybeZ8N3G63unXrps6dOzfpdRoUjmbOnKkJEybU26dHjx6ndK7Y2Fht3rzZr624uNh3rK4xhw8f9murrKzUkSNH6hwjSU6nU06ns0a7y+U6q/5RHRcREcG8zyLM++zCvM8uZ+u8Q0Ka9pOIGhSOoqKiFBUV1SgXTklJ0YMPPqjDhw/73ipbvXq1IiIi1KdPnzrHlJSUKC8vT4MGDZIkffjhh6qurlZycnKj1AUAAM5uTRa9CgsLtW3bNhUWFqqqqkrbtm3Ttm3bfJ9JdMUVV6hPnz66+eab9fnnn+v999/Xfffdp6lTp/qe8mzevFlJSUk6ePCgJKl3794aMWKEJk+erM2bN+uTTz7RtGnTdP3117O+AAAANIomW5A9e/ZsvfDCC7794799tnbtWg0dOlStWrXSu+++qylTpiglJUXt27fX+PHjNW/ePN+YY8eOKT8/XxUVFb62F198UdOmTdPw4cMVEhKiMWPG6Mknn2xQbU6nU3PmzKn1rbaWjHkz77MB82beZwPm3bTzbvLPOQIAADiT8N1qAAAAFsIRAACAhXAEAABgIRwBAABYCEcAAACWFhmOHnzwQaWmpqpdu3bq2LFjrX0KCws1atQotWvXTtHR0br77rtVWVlZ73mPHDmiG2+8UREREerYsaMmTZrk+9ym5mjdunVyOBy1bp9++mmd44YOHVqj/x133BHAyn+57t2715jDQw89VO+Yn376SVOnTlWXLl0UHh6uMWPG+D61/Uywd+9eTZo0SYmJiWrbtq169uypOXPmqLy8vN5xZ+L9XrRokbp3766wsDAlJyfX+LT9E7322mtKSkpSWFiYLrroIq1cuTJAlTaO7OxsXXrpperQoYOio6M1evRo5efn1zsmJyenxn0NCwsLUMWN44EHHqgxh5N9PdWZfq+l2n9+ORwOTZ06tdb+Z+q9/vjjj3XVVVcpLi5ODodDK1as8DtujNHs2bPVtWtXtW3bVmlpafr6669Pet6G/nyoTYsMR+Xl5bruuus0ZcqUWo9XVVVp1KhRKi8v14YNG/TCCy8oJydHs2fPrve8N954o3bs2KHVq1fr3Xff1ccff6zbbrutKabQKFJTU3Xo0CG/7dZbb1ViYqIuueSSesdOnjzZb9wjjzwSoKobz7x58/zmMH369Hr733XXXXrnnXf02muv6aOPPtI333yjP/zhDwGq9pfbtWuXqqur9eyzz2rHjh164okntHjxYt17770nHXsm3e9XX31VmZmZmjNnjj777DP1799f6enpNb5a6LgNGzYoIyNDkyZN0tatWzV69GiNHj1a27dvD3Dlp++jjz7S1KlTtXHjRq1evVoVFRW64oorVFZWVu+4iIgIv/u6b9++AFXceC688EK/Oaxfv77Ovi3hXkvSp59+6jfn1atXS5Kuu+66Osecife6rKxM/fv316JFi2o9/sgjj+jJJ5/U4sWLtWnTJrVv317p6en66aef6jxnQ38+1Mm0YEuXLjUul6tG+8qVK01ISIgpKirytT3zzDMmIiLCeL3eWs/11VdfGUnm008/9bW99957xuFwmIMHDzZ67U2hvLzcREVFmXnz5tXbb8iQIebOO+8MTFFNJCEhwTzxxBOn3L+kpMS0adPGvPbaa762nTt3GkkmNze3CSoMjEceecQkJibW2+dMu9+DBw82U6dO9e1XVVWZuLg4k52dXWv/P/3pT2bUqFF+bcnJyeb2229v0jqb0uHDh40k89FHH9XZp66ff2eSOXPmmP79+59y/5Z4r40x5s477zQ9e/Y01dXVtR5vCfdaknnzzTd9+9XV1SY2NtY8+uijvraSkhLjdDrNyy+/XOd5GvrzoS4t8snRyeTm5uqiiy5STEyMry09PV0ej0c7duyoc0zHjh39nrikpaUpJCREmzZtavKaG8Pbb7+t77//XhMnTjxp3xdffFGRkZHq27evsrKydOzYsQBU2LgeeughdenSRQMHDtSjjz5a79umeXl5qqioUFpamq8tKSlJ3bp1U25ubiDKbRJut/uUvr36TLnf5eXlysvL87tPISEhSktLq/M+5ebm+vWXfv7/fqbfV0knvbelpaVKSEhQfHy8rrnmmjp/vjVnX3/9teLi4tSjRw/deOONKiwsrLNvS7zX5eXlWrZsmW655RY5HI46+7WEe23bs2ePioqK/O6ny+VScnJynffzdH4+1KXJvj6kOSsqKvILRpJ8+0VFRXWOOf4Fuce1bt1anTt3rnNMc7NkyRKlp6fr3HPPrbffDTfcoISEBMXFxemLL77QPffco/z8fL3xxhsBqvSX+/Of/6yLL75YnTt31oYNG5SVlaVDhw7p8ccfr7V/UVGRQkNDa6xRi4mJOWPu74kKCgr01FNPacGCBfX2O5Pu93fffaeqqqpa///u2rWr1jF1/X8/U+9rdXW1ZsyYoV/96lfq27dvnf169eql559/Xv369ZPb7daCBQuUmpqqHTt2nPRnQHORnJysnJwc9erVS4cOHdLcuXP1m9/8Rtu3b1eHDh1q9G9p91qSVqxYoZKSEk2YMKHOPi3hXp/o+D1ryP08nZ8PdTljwtGsWbP08MMP19tn586dJ12s1xKczt/FgQMH9P7772v58uUnPb+9juqiiy5S165dNXz4cO3evVs9e/Y8/cJ/oYbMOzMz09fWr18/hYaG6vbbb1d2dvYZ911Ep3O/Dx48qBEjRui6667T5MmT6x3bXO83ajd16lRt37693rU3kpSSkqKUlBTffmpqqnr37q1nn31W8+fPb+oyG8XIkSN9f+7Xr5+Sk5OVkJCg5cuXa9KkSUGsLHCWLFmikSNH1vvl6i3hXjc3Z0w4mjlzZr3JWZJ69OhxSueKjY2tsXr9+G8lxcbG1jnmxAVdlZWVOnLkSJ1jmsrp/F0sXbpUXbp00dVXX93g6yUnJ0v6+UlEMF8sf8m/geTkZFVWVmrv3r3q1atXjeOxsbEqLy9XSUmJ39Oj4uLigN/fEzV03t98842GDRum1NRUPffccw2+XnO537WJjIxUq1atavwWYX33KTY2tkH9m7Np06b5fhmkoU8E2rRpo4EDB6qgoKCJqmt6HTt21AUXXFDnHFrSvZakffv26YMPPmjwU9yWcK+P37Pi4mJ17drV115cXKwBAwbUOuZ0fj7UqUErlM4wJ1uQXVxc7Gt79tlnTUREhPnpp59qPdfxBdlbtmzxtb3//vtnxILs6upqk5iYaGbOnHla49evX28kmc8//7yRKwucZcuWmZCQEHPkyJFajx9fkP3666/72nbt2nXGLcg+cOCAOf/88831119vKisrT+sczf1+Dx482EybNs23X1VVZc4555x6F2RfeeWVfm0pKSln1CLd6upqM3XqVBMXF2f+/e9/n9Y5KisrTa9evcxdd93VyNUFztGjR02nTp3M3//+91qPt4R7bZszZ46JjY01FRUVDRp3Jt5r1bEge8GCBb42t9t9SguyG/Lzoc56GtT7DLFv3z6zdetWM3fuXBMeHm62bt1qtm7dao4ePWqM+fkfTt++fc0VV1xhtm3bZlatWmWioqJMVlaW7xybNm0yvXr1MgcOHPC1jRgxwgwcONBs2rTJrF+/3px//vkmIyMj4PNrqA8++MBIMjt37qxx7MCBA6ZXr15m06ZNxhhjCgoKzLx588yWLVvMnj17zFtvvWV69OhhLr/88kCXfdo2bNhgnnjiCbNt2zaze/dus2zZMhMVFWXGjRvn63PivI0x5o477jDdunUzH374odmyZYtJSUkxKSkpwZjCaTlw4IA577zzzPDhw82BAwfMoUOHfJvd50y/36+88opxOp0mJyfHfPXVV+a2224zHTt29P326c0332xmzZrl6//JJ5+Y1q1bmwULFpidO3eaOXPmmDZt2pgvv/wyWFNosClTphiXy2XWrVvnd1+PHTvm63PivOfOnWvef/99s3v3bpOXl2euv/56ExYWZnbs2BGMKZyWmTNnmnXr1pk9e/aYTz75xKSlpZnIyEhz+PBhY0zLvNfHVVVVmW7dupl77rmnxrGWcq+PHj3qe32WZB5//HGzdetWs2/fPmOMMQ899JDp2LGjeeutt8wXX3xhrrnmGpOYmGh+/PFH3zl++9vfmqeeesq3f7KfD6eqRYaj8ePHG0k1trVr1/r67N2714wcOdK0bdvWREZGmpkzZ/ql87Vr1xpJZs+ePb6277//3mRkZJjw8HATERFhJk6c6AtczVlGRoZJTU2t9diePXv8/m4KCwvN5Zdfbjp37mycTqc577zzzN13323cbncAK/5l8vLyTHJysnG5XCYsLMz07t3b/O1vf/N7KnjivI0x5scffzT/8R//YTp16mTatWtnrr32Wr9g0dwtXbq01n/39gPilnK/n3rqKdOtWzcTGhpqBg8ebDZu3Og7NmTIEDN+/Hi//suXLzcXXHCBCQ0NNRdeeKH517/+FeCKf5m67uvSpUt9fU6c94wZM3x/RzExMeb3v/+9+eyzzwJf/C8wduxY07VrVxMaGmrOOeccM3bsWFNQUOA73hLv9XHvv/++kWTy8/NrHGsp9/r46+yJ2/G5VVdXm/vvv9/ExMQYp9Nphg8fXuPvIyEhwcyZM8evrb6fD6fKYYwxDXsjDgAAoOU6Kz/nCAAAoC6EIwAAAAvhCAAAwEI4AgAAsBCOAAAALIQjAAAAC+EIAADAQjgCAACwEI4AAAAshCMAAAAL4QgAAMDy/wHn8kqTEY6TwwAAAABJRU5ErkJggg==\n"
                },
                "metadata": {}
              }
            ]
          }
        },
        "3422ba65952e4b77ad2e852af6ab5d80": {
          "model_module": "@jupyter-widgets/base",
          "model_name": "LayoutModel",
          "model_module_version": "1.2.0",
          "state": {
            "_model_module": "@jupyter-widgets/base",
            "_model_module_version": "1.2.0",
            "_model_name": "LayoutModel",
            "_view_count": null,
            "_view_module": "@jupyter-widgets/base",
            "_view_module_version": "1.2.0",
            "_view_name": "LayoutView",
            "align_content": null,
            "align_items": null,
            "align_self": null,
            "border": null,
            "bottom": null,
            "display": null,
            "flex": null,
            "flex_flow": null,
            "grid_area": null,
            "grid_auto_columns": null,
            "grid_auto_flow": null,
            "grid_auto_rows": null,
            "grid_column": null,
            "grid_gap": null,
            "grid_row": null,
            "grid_template_areas": null,
            "grid_template_columns": null,
            "grid_template_rows": null,
            "height": null,
            "justify_content": null,
            "justify_items": null,
            "left": null,
            "margin": null,
            "max_height": null,
            "max_width": null,
            "min_height": null,
            "min_width": null,
            "object_fit": null,
            "object_position": null,
            "order": null,
            "overflow": null,
            "overflow_x": null,
            "overflow_y": null,
            "padding": null,
            "right": null,
            "top": null,
            "visibility": null,
            "width": null
          }
        },
        "48a617d22f844796a03b0711aacf8c02": {
          "model_module": "@jupyter-widgets/base",
          "model_name": "LayoutModel",
          "model_module_version": "1.2.0",
          "state": {
            "_model_module": "@jupyter-widgets/base",
            "_model_module_version": "1.2.0",
            "_model_name": "LayoutModel",
            "_view_count": null,
            "_view_module": "@jupyter-widgets/base",
            "_view_module_version": "1.2.0",
            "_view_name": "LayoutView",
            "align_content": null,
            "align_items": null,
            "align_self": null,
            "border": null,
            "bottom": null,
            "display": null,
            "flex": null,
            "flex_flow": null,
            "grid_area": null,
            "grid_auto_columns": null,
            "grid_auto_flow": null,
            "grid_auto_rows": null,
            "grid_column": null,
            "grid_gap": null,
            "grid_row": null,
            "grid_template_areas": null,
            "grid_template_columns": null,
            "grid_template_rows": null,
            "height": null,
            "justify_content": null,
            "justify_items": null,
            "left": null,
            "margin": null,
            "max_height": null,
            "max_width": null,
            "min_height": null,
            "min_width": null,
            "object_fit": null,
            "object_position": null,
            "order": null,
            "overflow": null,
            "overflow_x": null,
            "overflow_y": null,
            "padding": null,
            "right": null,
            "top": null,
            "visibility": null,
            "width": null
          }
        },
        "836eb9f801414bd781b850a8f120a4c2": {
          "model_module": "@jupyter-widgets/controls",
          "model_name": "SliderStyleModel",
          "model_module_version": "1.5.0",
          "state": {
            "_model_module": "@jupyter-widgets/controls",
            "_model_module_version": "1.5.0",
            "_model_name": "SliderStyleModel",
            "_view_count": null,
            "_view_module": "@jupyter-widgets/base",
            "_view_module_version": "1.2.0",
            "_view_name": "StyleView",
            "description_width": "",
            "handle_color": null
          }
        },
        "da6ce68deaa3450a8f4886cf8e105873": {
          "model_module": "@jupyter-widgets/base",
          "model_name": "LayoutModel",
          "model_module_version": "1.2.0",
          "state": {
            "_model_module": "@jupyter-widgets/base",
            "_model_module_version": "1.2.0",
            "_model_name": "LayoutModel",
            "_view_count": null,
            "_view_module": "@jupyter-widgets/base",
            "_view_module_version": "1.2.0",
            "_view_name": "LayoutView",
            "align_content": null,
            "align_items": null,
            "align_self": null,
            "border": null,
            "bottom": null,
            "display": null,
            "flex": null,
            "flex_flow": null,
            "grid_area": null,
            "grid_auto_columns": null,
            "grid_auto_flow": null,
            "grid_auto_rows": null,
            "grid_column": null,
            "grid_gap": null,
            "grid_row": null,
            "grid_template_areas": null,
            "grid_template_columns": null,
            "grid_template_rows": null,
            "height": null,
            "justify_content": null,
            "justify_items": null,
            "left": null,
            "margin": null,
            "max_height": null,
            "max_width": null,
            "min_height": null,
            "min_width": null,
            "object_fit": null,
            "object_position": null,
            "order": null,
            "overflow": null,
            "overflow_x": null,
            "overflow_y": null,
            "padding": null,
            "right": null,
            "top": null,
            "visibility": null,
            "width": null
          }
        },
        "1e46edd2ffec46e6ad3ae50fd1593638": {
          "model_module": "@jupyter-widgets/controls",
          "model_name": "SliderStyleModel",
          "model_module_version": "1.5.0",
          "state": {
            "_model_module": "@jupyter-widgets/controls",
            "_model_module_version": "1.5.0",
            "_model_name": "SliderStyleModel",
            "_view_count": null,
            "_view_module": "@jupyter-widgets/base",
            "_view_module_version": "1.2.0",
            "_view_name": "StyleView",
            "description_width": "",
            "handle_color": null
          }
        },
        "203c484651e94ecc91fc0618d2fdedd9": {
          "model_module": "@jupyter-widgets/base",
          "model_name": "LayoutModel",
          "model_module_version": "1.2.0",
          "state": {
            "_model_module": "@jupyter-widgets/base",
            "_model_module_version": "1.2.0",
            "_model_name": "LayoutModel",
            "_view_count": null,
            "_view_module": "@jupyter-widgets/base",
            "_view_module_version": "1.2.0",
            "_view_name": "LayoutView",
            "align_content": null,
            "align_items": null,
            "align_self": null,
            "border": null,
            "bottom": null,
            "display": null,
            "flex": null,
            "flex_flow": null,
            "grid_area": null,
            "grid_auto_columns": null,
            "grid_auto_flow": null,
            "grid_auto_rows": null,
            "grid_column": null,
            "grid_gap": null,
            "grid_row": null,
            "grid_template_areas": null,
            "grid_template_columns": null,
            "grid_template_rows": null,
            "height": null,
            "justify_content": null,
            "justify_items": null,
            "left": null,
            "margin": null,
            "max_height": null,
            "max_width": null,
            "min_height": null,
            "min_width": null,
            "object_fit": null,
            "object_position": null,
            "order": null,
            "overflow": null,
            "overflow_x": null,
            "overflow_y": null,
            "padding": null,
            "right": null,
            "top": null,
            "visibility": null,
            "width": null
          }
        },
        "bc0d12f8d4f74089ab0ee23b92ce2580": {
          "model_module": "@jupyter-widgets/controls",
          "model_name": "VBoxModel",
          "model_module_version": "1.5.0",
          "state": {
            "_dom_classes": [
              "widget-interact"
            ],
            "_model_module": "@jupyter-widgets/controls",
            "_model_module_version": "1.5.0",
            "_model_name": "VBoxModel",
            "_view_count": null,
            "_view_module": "@jupyter-widgets/controls",
            "_view_module_version": "1.5.0",
            "_view_name": "VBoxView",
            "box_style": "",
            "children": [
              "IPY_MODEL_efe57b2fa7e1496b92482811aec9f998",
              "IPY_MODEL_e153784066ad474ca174cd24c94503a4",
              "IPY_MODEL_dac77381deb84cd7a7cc430eaed45233",
              "IPY_MODEL_39712c847dd941b69d968220b884ae13"
            ],
            "layout": "IPY_MODEL_49804733563b49bdba6ad6e11fe77352"
          }
        },
        "efe57b2fa7e1496b92482811aec9f998": {
          "model_module": "@jupyter-widgets/controls",
          "model_name": "IntSliderModel",
          "model_module_version": "1.5.0",
          "state": {
            "_dom_classes": [],
            "_model_module": "@jupyter-widgets/controls",
            "_model_module_version": "1.5.0",
            "_model_name": "IntSliderModel",
            "_view_count": null,
            "_view_module": "@jupyter-widgets/controls",
            "_view_module_version": "1.5.0",
            "_view_name": "IntSliderView",
            "continuous_update": true,
            "description": "a",
            "description_tooltip": null,
            "disabled": false,
            "layout": "IPY_MODEL_773a612254064f5c923b20f80547e0ee",
            "max": 9,
            "min": -9,
            "orientation": "horizontal",
            "readout": true,
            "readout_format": "d",
            "step": 1,
            "style": "IPY_MODEL_ffcb57ee9e1e4b9a95666fb75aa1df66",
            "value": 2
          }
        },
        "e153784066ad474ca174cd24c94503a4": {
          "model_module": "@jupyter-widgets/controls",
          "model_name": "IntSliderModel",
          "model_module_version": "1.5.0",
          "state": {
            "_dom_classes": [],
            "_model_module": "@jupyter-widgets/controls",
            "_model_module_version": "1.5.0",
            "_model_name": "IntSliderModel",
            "_view_count": null,
            "_view_module": "@jupyter-widgets/controls",
            "_view_module_version": "1.5.0",
            "_view_name": "IntSliderView",
            "continuous_update": true,
            "description": "b",
            "description_tooltip": null,
            "disabled": false,
            "layout": "IPY_MODEL_fba45f18f93f46d0b707800a0ff2ccf9",
            "max": 9,
            "min": -9,
            "orientation": "horizontal",
            "readout": true,
            "readout_format": "d",
            "step": 1,
            "style": "IPY_MODEL_4a3ca437b769432cbc5a7c45d522c83a",
            "value": -3
          }
        },
        "dac77381deb84cd7a7cc430eaed45233": {
          "model_module": "@jupyter-widgets/controls",
          "model_name": "IntSliderModel",
          "model_module_version": "1.5.0",
          "state": {
            "_dom_classes": [],
            "_model_module": "@jupyter-widgets/controls",
            "_model_module_version": "1.5.0",
            "_model_name": "IntSliderModel",
            "_view_count": null,
            "_view_module": "@jupyter-widgets/controls",
            "_view_module_version": "1.5.0",
            "_view_name": "IntSliderView",
            "continuous_update": true,
            "description": "c",
            "description_tooltip": null,
            "disabled": false,
            "layout": "IPY_MODEL_d4e585357877469fa112f2d4ccfeeae8",
            "max": 9,
            "min": -9,
            "orientation": "horizontal",
            "readout": true,
            "readout_format": "d",
            "step": 1,
            "style": "IPY_MODEL_864280f7661a46c9b0e579fb50c612df",
            "value": -4
          }
        },
        "39712c847dd941b69d968220b884ae13": {
          "model_module": "@jupyter-widgets/output",
          "model_name": "OutputModel",
          "model_module_version": "1.0.0",
          "state": {
            "_dom_classes": [],
            "_model_module": "@jupyter-widgets/output",
            "_model_module_version": "1.0.0",
            "_model_name": "OutputModel",
            "_view_count": null,
            "_view_module": "@jupyter-widgets/output",
            "_view_module_version": "1.0.0",
            "_view_name": "OutputView",
            "layout": "IPY_MODEL_aeeda2ca643a41a59b5f822823246a72",
            "msg_id": "",
            "outputs": [
              {
                "output_type": "display_data",
                "data": {
                  "text/plain": "<Figure size 640x480 with 1 Axes>",
                  "image/png": "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\n"
                },
                "metadata": {}
              }
            ]
          }
        },
        "49804733563b49bdba6ad6e11fe77352": {
          "model_module": "@jupyter-widgets/base",
          "model_name": "LayoutModel",
          "model_module_version": "1.2.0",
          "state": {
            "_model_module": "@jupyter-widgets/base",
            "_model_module_version": "1.2.0",
            "_model_name": "LayoutModel",
            "_view_count": null,
            "_view_module": "@jupyter-widgets/base",
            "_view_module_version": "1.2.0",
            "_view_name": "LayoutView",
            "align_content": null,
            "align_items": null,
            "align_self": null,
            "border": null,
            "bottom": null,
            "display": null,
            "flex": null,
            "flex_flow": null,
            "grid_area": null,
            "grid_auto_columns": null,
            "grid_auto_flow": null,
            "grid_auto_rows": null,
            "grid_column": null,
            "grid_gap": null,
            "grid_row": null,
            "grid_template_areas": null,
            "grid_template_columns": null,
            "grid_template_rows": null,
            "height": null,
            "justify_content": null,
            "justify_items": null,
            "left": null,
            "margin": null,
            "max_height": null,
            "max_width": null,
            "min_height": null,
            "min_width": null,
            "object_fit": null,
            "object_position": null,
            "order": null,
            "overflow": null,
            "overflow_x": null,
            "overflow_y": null,
            "padding": null,
            "right": null,
            "top": null,
            "visibility": null,
            "width": null
          }
        },
        "773a612254064f5c923b20f80547e0ee": {
          "model_module": "@jupyter-widgets/base",
          "model_name": "LayoutModel",
          "model_module_version": "1.2.0",
          "state": {
            "_model_module": "@jupyter-widgets/base",
            "_model_module_version": "1.2.0",
            "_model_name": "LayoutModel",
            "_view_count": null,
            "_view_module": "@jupyter-widgets/base",
            "_view_module_version": "1.2.0",
            "_view_name": "LayoutView",
            "align_content": null,
            "align_items": null,
            "align_self": null,
            "border": null,
            "bottom": null,
            "display": null,
            "flex": null,
            "flex_flow": null,
            "grid_area": null,
            "grid_auto_columns": null,
            "grid_auto_flow": null,
            "grid_auto_rows": null,
            "grid_column": null,
            "grid_gap": null,
            "grid_row": null,
            "grid_template_areas": null,
            "grid_template_columns": null,
            "grid_template_rows": null,
            "height": null,
            "justify_content": null,
            "justify_items": null,
            "left": null,
            "margin": null,
            "max_height": null,
            "max_width": null,
            "min_height": null,
            "min_width": null,
            "object_fit": null,
            "object_position": null,
            "order": null,
            "overflow": null,
            "overflow_x": null,
            "overflow_y": null,
            "padding": null,
            "right": null,
            "top": null,
            "visibility": null,
            "width": null
          }
        },
        "ffcb57ee9e1e4b9a95666fb75aa1df66": {
          "model_module": "@jupyter-widgets/controls",
          "model_name": "SliderStyleModel",
          "model_module_version": "1.5.0",
          "state": {
            "_model_module": "@jupyter-widgets/controls",
            "_model_module_version": "1.5.0",
            "_model_name": "SliderStyleModel",
            "_view_count": null,
            "_view_module": "@jupyter-widgets/base",
            "_view_module_version": "1.2.0",
            "_view_name": "StyleView",
            "description_width": "",
            "handle_color": null
          }
        },
        "fba45f18f93f46d0b707800a0ff2ccf9": {
          "model_module": "@jupyter-widgets/base",
          "model_name": "LayoutModel",
          "model_module_version": "1.2.0",
          "state": {
            "_model_module": "@jupyter-widgets/base",
            "_model_module_version": "1.2.0",
            "_model_name": "LayoutModel",
            "_view_count": null,
            "_view_module": "@jupyter-widgets/base",
            "_view_module_version": "1.2.0",
            "_view_name": "LayoutView",
            "align_content": null,
            "align_items": null,
            "align_self": null,
            "border": null,
            "bottom": null,
            "display": null,
            "flex": null,
            "flex_flow": null,
            "grid_area": null,
            "grid_auto_columns": null,
            "grid_auto_flow": null,
            "grid_auto_rows": null,
            "grid_column": null,
            "grid_gap": null,
            "grid_row": null,
            "grid_template_areas": null,
            "grid_template_columns": null,
            "grid_template_rows": null,
            "height": null,
            "justify_content": null,
            "justify_items": null,
            "left": null,
            "margin": null,
            "max_height": null,
            "max_width": null,
            "min_height": null,
            "min_width": null,
            "object_fit": null,
            "object_position": null,
            "order": null,
            "overflow": null,
            "overflow_x": null,
            "overflow_y": null,
            "padding": null,
            "right": null,
            "top": null,
            "visibility": null,
            "width": null
          }
        },
        "4a3ca437b769432cbc5a7c45d522c83a": {
          "model_module": "@jupyter-widgets/controls",
          "model_name": "SliderStyleModel",
          "model_module_version": "1.5.0",
          "state": {
            "_model_module": "@jupyter-widgets/controls",
            "_model_module_version": "1.5.0",
            "_model_name": "SliderStyleModel",
            "_view_count": null,
            "_view_module": "@jupyter-widgets/base",
            "_view_module_version": "1.2.0",
            "_view_name": "StyleView",
            "description_width": "",
            "handle_color": null
          }
        },
        "d4e585357877469fa112f2d4ccfeeae8": {
          "model_module": "@jupyter-widgets/base",
          "model_name": "LayoutModel",
          "model_module_version": "1.2.0",
          "state": {
            "_model_module": "@jupyter-widgets/base",
            "_model_module_version": "1.2.0",
            "_model_name": "LayoutModel",
            "_view_count": null,
            "_view_module": "@jupyter-widgets/base",
            "_view_module_version": "1.2.0",
            "_view_name": "LayoutView",
            "align_content": null,
            "align_items": null,
            "align_self": null,
            "border": null,
            "bottom": null,
            "display": null,
            "flex": null,
            "flex_flow": null,
            "grid_area": null,
            "grid_auto_columns": null,
            "grid_auto_flow": null,
            "grid_auto_rows": null,
            "grid_column": null,
            "grid_gap": null,
            "grid_row": null,
            "grid_template_areas": null,
            "grid_template_columns": null,
            "grid_template_rows": null,
            "height": null,
            "justify_content": null,
            "justify_items": null,
            "left": null,
            "margin": null,
            "max_height": null,
            "max_width": null,
            "min_height": null,
            "min_width": null,
            "object_fit": null,
            "object_position": null,
            "order": null,
            "overflow": null,
            "overflow_x": null,
            "overflow_y": null,
            "padding": null,
            "right": null,
            "top": null,
            "visibility": null,
            "width": null
          }
        },
        "864280f7661a46c9b0e579fb50c612df": {
          "model_module": "@jupyter-widgets/controls",
          "model_name": "SliderStyleModel",
          "model_module_version": "1.5.0",
          "state": {
            "_model_module": "@jupyter-widgets/controls",
            "_model_module_version": "1.5.0",
            "_model_name": "SliderStyleModel",
            "_view_count": null,
            "_view_module": "@jupyter-widgets/base",
            "_view_module_version": "1.2.0",
            "_view_name": "StyleView",
            "description_width": "",
            "handle_color": null
          }
        },
        "aeeda2ca643a41a59b5f822823246a72": {
          "model_module": "@jupyter-widgets/base",
          "model_name": "LayoutModel",
          "model_module_version": "1.2.0",
          "state": {
            "_model_module": "@jupyter-widgets/base",
            "_model_module_version": "1.2.0",
            "_model_name": "LayoutModel",
            "_view_count": null,
            "_view_module": "@jupyter-widgets/base",
            "_view_module_version": "1.2.0",
            "_view_name": "LayoutView",
            "align_content": null,
            "align_items": null,
            "align_self": null,
            "border": null,
            "bottom": null,
            "display": null,
            "flex": null,
            "flex_flow": null,
            "grid_area": null,
            "grid_auto_columns": null,
            "grid_auto_flow": null,
            "grid_auto_rows": null,
            "grid_column": null,
            "grid_gap": null,
            "grid_row": null,
            "grid_template_areas": null,
            "grid_template_columns": null,
            "grid_template_rows": null,
            "height": null,
            "justify_content": null,
            "justify_items": null,
            "left": null,
            "margin": null,
            "max_height": null,
            "max_width": null,
            "min_height": null,
            "min_width": null,
            "object_fit": null,
            "object_position": null,
            "order": null,
            "overflow": null,
            "overflow_x": null,
            "overflow_y": null,
            "padding": null,
            "right": null,
            "top": null,
            "visibility": null,
            "width": null
          }
        }
      }
    }
  },
  "cells": [
    {
      "cell_type": "markdown",
      "metadata": {
        "id": "view-in-github",
        "colab_type": "text"
      },
      "source": [
        "<a href=\"https://colab.research.google.com/github/pedarias/Graphing-Calculator/blob/main/GRAPHCalculator.ipynb\" target=\"_parent\"><img src=\"https://colab.research.google.com/assets/colab-badge.svg\" alt=\"Open In Colab\"/></a>"
      ]
    },
    {
      "cell_type": "markdown",
      "metadata": {
        "id": "EsfO5Q92tL-6"
      },
      "source": [
        "[![freeCodeCamp](https://cdn.freecodecamp.org/testable-projects-fcc/images/fcc_secondary.svg)](https://freecodecamp.org/)"
      ]
    },
    {
      "cell_type": "markdown",
      "metadata": {
        "id": "7ECUmRBSGOb4"
      },
      "source": [
        "**Learn Foundational Math 2 by Building Cartesian Graphs**<br>\n",
        "Each of these steps will lead you toward the Certification Project. Once you complete a step, click to expand the next step."
      ]
    },
    {
      "cell_type": "markdown",
      "metadata": {
        "id": "szp5flp1fA8-"
      },
      "source": [
        "# &darr; **Do this first** &darr;\n",
        "Copy this notebook to your own account by clicking the `File` button at the top, and then click `Save a copy in Drive`. You will need to be logged in to Google. The file will be in a folder called \"Colab Notebooks\" in your Google Drive."
      ]
    },
    {
      "cell_type": "markdown",
      "source": [
        "# Step 0 - Acquire the testing library"
      ],
      "metadata": {
        "id": "iNcDJ45bGtYk"
      }
    },
    {
      "cell_type": "markdown",
      "source": [
        "Please run this code to get the library file from FreeCodeCamp. Each step will use this library to test your code. You do not need to edit anything; just run this code cell and wait a few seconds until it tells you to go on to the next step."
      ],
      "metadata": {
        "id": "2_U7sdv4zaww"
      }
    },
    {
      "cell_type": "code",
      "source": [
        "# You may need to run this cell at the beginning of each new session\n",
        "\n",
        "!pip install requests\n",
        "\n",
        "# This will just take a few seconds\n",
        "\n",
        "import requests\n",
        "\n",
        "# Get the library from GitHub\n",
        "url = 'https://raw.githubusercontent.com/edatfreecodecamp/python-math/main/math-code-test-b.py'\n",
        "r = requests.get(url)\n",
        "\n",
        "# Save the library in a local working directory\n",
        "with open('math_code_test_b.py', 'w') as f:\n",
        "    f.write(r.text)\n",
        "\n",
        "# Now you can import the library\n",
        "import math_code_test_b as test\n",
        "\n",
        "# This will tell you if the code works\n",
        "test.step01()"
      ],
      "metadata": {
        "id": "aDuDRHETG3Oy",
        "colab": {
          "base_uri": "https://localhost:8080/"
        },
        "outputId": "e1dcbbfd-4f62-4dcb-e1b2-b563e2585405"
      },
      "execution_count": null,
      "outputs": [
        {
          "output_type": "stream",
          "name": "stdout",
          "text": [
            "Requirement already satisfied: requests in /usr/local/lib/python3.10/dist-packages (2.27.1)\n",
            "Requirement already satisfied: urllib3<1.27,>=1.21.1 in /usr/local/lib/python3.10/dist-packages (from requests) (1.26.16)\n",
            "Requirement already satisfied: certifi>=2017.4.17 in /usr/local/lib/python3.10/dist-packages (from requests) (2023.5.7)\n",
            "Requirement already satisfied: charset-normalizer~=2.0.0 in /usr/local/lib/python3.10/dist-packages (from requests) (2.0.12)\n",
            "Requirement already satisfied: idna<4,>=2.5 in /usr/local/lib/python3.10/dist-packages (from requests) (3.4)\n",
            "Code test Passed\n",
            "Go on to the next step\n"
          ]
        }
      ]
    },
    {
      "cell_type": "markdown",
      "metadata": {
        "id": "ZWDxpIPUFfda"
      },
      "source": [
        "# Step 1 - Cartesian Coordinates"
      ]
    },
    {
      "cell_type": "markdown",
      "metadata": {
        "id": "eTWzFpChFltm"
      },
      "source": [
        "Learn Cartesian coordinates by building a scatterplot game. The Cartesian plane is the classic x-y coordinate grid (invented by Ren$\\acute{e}$ DesCartes) where \"<i>x</i>\" is the horizontal axis and \"<i>y</i>\" is the vertical axis. Each (x,y) coordinate pair is a point on the graph. The point (0,0) is the \"origin.\" The x value tells how much to move right (positive) or left (negaive) from the origin. The y value tells you how much you move up (positive) or down (negative) from the origin. Notice that you are importing `matplotlib` to create the graph. The following code just displays one quadrant of the Cartesian graph. Just run this code to see how Python displays a graph.\n"
      ]
    },
    {
      "cell_type": "code",
      "metadata": {
        "id": "OGdjnZw0Fmf7",
        "colab": {
          "base_uri": "https://localhost:8080/",
          "height": 470
        },
        "outputId": "0061afba-f74c-468c-e3c7-b9322689b829"
      },
      "source": [
        "import matplotlib.pyplot as plt\n",
        "\n",
        "fig, ax = plt.subplots()\n",
        "plt.show()\n",
        "\n",
        "# Just run this code to see a blank graph\n",
        "import math_code_test_b as test\n",
        "test.step01()"
      ],
      "execution_count": null,
      "outputs": [
        {
          "output_type": "display_data",
          "data": {
            "text/plain": [
              "<Figure size 640x480 with 1 Axes>"
            ],
            "image/png": "[encoded data removed]"
          },
          "metadata": {}
        },
        {
          "output_type": "stream",
          "name": "stdout",
          "text": [
            "Code test Passed\n",
            "Go on to the next step\n"
          ]
        }
      ]
    },
    {
      "cell_type": "markdown",
      "metadata": {
        "id": "i1mBd8gGFvBV"
      },
      "source": [
        "# Step 2 - Cartesian Coordinates (Part 2)"
      ]
    },
    {
      "cell_type": "markdown",
      "metadata": {
        "id": "aylg20IGFvBW"
      },
      "source": [
        "Here you will create a standard window but still not highlight each axis. Run this code once, then change the window size to 20 in each direction and run it again."
      ]
    },
    {
      "cell_type": "code",
      "metadata": {
        "id": "EKfFo4_EFvBX",
        "colab": {
          "base_uri": "https://localhost:8080/",
          "height": 487
        },
        "outputId": "29844f82-454d-4f32-c3d9-0bd6ff69cec5"
      },
      "source": [
        "import matplotlib.pyplot as plt\n",
        "\n",
        "fig, ax = plt.subplots()\n",
        "\n",
        "# Only change the numbers in the next line:\n",
        "plt.axis([-20,20,-20,20])\n",
        "\n",
        "plt.show()\n",
        "\n",
        "\n",
        "# Only change code above this line\n",
        "import math_code_test_b as test\n",
        "test.step02(In[-1].split('# Only change code above this line')[0])"
      ],
      "execution_count": null,
      "outputs": [
        {
          "output_type": "display_data",
          "data": {
            "text/plain": [
              "<Figure size 640x480 with 1 Axes>"
            ],
            "image/png": "[encoded data removed]"
          },
          "metadata": {}
        },
        {
          "output_type": "stream",
          "name": "stdout",
          "text": [
            " \n",
            "Code test passed\n",
            "Go on to the next step\n"
          ]
        }
      ]
    },
    {
      "cell_type": "markdown",
      "source": [
        "# Step 3 - Graph Dimensions"
      ],
      "metadata": {
        "id": "MYQL57cD2ejS"
      }
    },
    {
      "cell_type": "markdown",
      "source": [
        "When you look at this code, you can see how Python sets up window dimensions. You will also notice that it is easier and more organized to define the dimensions as variables. Run the code, then change just the `xmax` value to 20 and run it again to see the difference."
      ],
      "metadata": {
        "id": "b2k229tOz9YQ"
      }
    },
    {
      "cell_type": "code",
      "source": [
        "import matplotlib.pyplot as plt\n",
        "\n",
        "xmin = -10\n",
        "xmax = 20\n",
        "ymin = -10\n",
        "ymax = 10\n",
        "\n",
        "fig, ax = plt.subplots()\n",
        "plt.axis([xmin,xmax,ymin,ymax]) # window size\n",
        "plt.show()\n",
        "\n",
        "# Only change code above this line\n",
        "import math_code_test_b as test\n",
        "test.step03(In[-1].split('# Only change code above this line')[0])"
      ],
      "metadata": {
        "id": "uXvHo-5a2Zi_",
        "colab": {
          "base_uri": "https://localhost:8080/",
          "height": 487
        },
        "outputId": "af903734-157e-414f-996b-e0407a1eecc0"
      },
      "execution_count": null,
      "outputs": [
        {
          "output_type": "display_data",
          "data": {
            "text/plain": [
              "<Figure size 640x480 with 1 Axes>"
            ],
            "image/png": "[encoded data removed]"
          },
          "metadata": {}
        },
        {
          "output_type": "stream",
          "name": "stdout",
          "text": [
            " \n",
            "Code test passed\n",
            "Go on to the next step\n"
          ]
        }
      ]
    },
    {
      "cell_type": "markdown",
      "source": [
        "# Step 4 - Displaying Axis Lines"
      ],
      "metadata": {
        "id": "jIHKROStFMcR"
      }
    },
    {
      "cell_type": "markdown",
      "source": [
        "Notice the code to `plot` a line for the x axis and a line for the y axis. The `'b'` makes the line blue. Run the code, then change each 'b' to 'g' to make the lines green."
      ],
      "metadata": {
        "id": "NhrHvY1YEndp"
      }
    },
    {
      "cell_type": "code",
      "source": [
        "import matplotlib.pyplot as plt\n",
        "\n",
        "xmin = -10\n",
        "xmax = 10\n",
        "ymin = -10\n",
        "ymax = 10\n",
        "\n",
        "fig, ax = plt.subplots()\n",
        "plt.axis([xmin,xmax,ymin,ymax]) # window size\n",
        "plt.plot([xmin,xmax],[0,0],'g') # blue x axis\n",
        "plt.plot([0,0],[ymin,ymax], 'g') # blue y axis\n",
        "\n",
        "plt.show()\n",
        "\n",
        "# Only change code above this line\n",
        "import math_code_test_b as test\n",
        "test.step04(In[-1].split('# Only change code above this line')[0])"
      ],
      "metadata": {
        "id": "mgWhRLtwFGOd",
        "colab": {
          "base_uri": "https://localhost:8080/",
          "height": 487
        },
        "outputId": "09dea429-5a71-49d6-97aa-bd014ebb2062"
      },
      "execution_count": null,
      "outputs": [
        {
          "output_type": "display_data",
          "data": {
            "text/plain": [
              "<Figure size 640x480 with 1 Axes>"
            ],
            "image/png": "[encoded data removed]"
          },
          "metadata": {}
        },
        {
          "output_type": "stream",
          "name": "stdout",
          "text": [
            " \n",
            "Code test passed\n",
            "Go on to the next step\n"
          ]
        }
      ]
    },
    {
      "cell_type": "markdown",
      "metadata": {
        "id": "wLDO_IRrFw7z"
      },
      "source": [
        "# Step 5 - Plotting a Point"
      ]
    },
    {
      "cell_type": "markdown",
      "metadata": {
        "id": "iOZ8TJISFw71"
      },
      "source": [
        "Now you will plot a point on the graph. Notice the `'ro'` makes the point a red dot. Run the code, then change the location of the point to (-5,1) and run it again. Keep the window size the same. Notice the difference between plotting a point and plotting a line."
      ]
    },
    {
      "cell_type": "code",
      "metadata": {
        "id": "N09NlV3DFw71",
        "colab": {
          "base_uri": "https://localhost:8080/",
          "height": 487
        },
        "outputId": "74a71ea6-7b96-4bbf-db85-2d6c8e04e3f9"
      },
      "source": [
        "import matplotlib.pyplot as plt\n",
        "\n",
        "xmin = -10\n",
        "xmax = 10\n",
        "ymin = -10\n",
        "ymax = 10\n",
        "\n",
        "fig, ax = plt.subplots()\n",
        "plt.axis([xmin,xmax,ymin,ymax]) # window size\n",
        "plt.plot([xmin,xmax],[0,0],'b') # blue x axis\n",
        "plt.plot([0,0],[ymin,ymax], 'b') # blue y axis\n",
        "\n",
        "# Change only the numbers in the following line:\n",
        "plt.plot([-5],[1], 'ro')\n",
        "\n",
        "plt.show()\n",
        "\n",
        "\n",
        "# Only change code above this line\n",
        "import math_code_test_b as test\n",
        "test.step05(In[-1].split('# Only change code above this line')[0])"
      ],
      "execution_count": null,
      "outputs": [
        {
          "output_type": "display_data",
          "data": {
            "text/plain": [
              "<Figure size 640x480 with 1 Axes>"
            ],
            "image/png": "[encoded data removed]"
          },
          "metadata": {}
        },
        {
          "output_type": "stream",
          "name": "stdout",
          "text": [
            " \n",
            "Code test passed\n",
            "Go on to the next step\n"
          ]
        }
      ]
    },
    {
      "cell_type": "markdown",
      "metadata": {
        "id": "ExVB2joZF0rk"
      },
      "source": [
        "# Step 6 - Plotting Several Points"
      ]
    },
    {
      "cell_type": "markdown",
      "metadata": {
        "id": "G48kO0jcF0rl"
      },
      "source": [
        "You have actually been using arrays to plot each singular point so far. In this step, you will see an array of x values and an array of y values defined before the plot statement. Notice that these two short arrays create one point: (4,2). Add two numbers to each array so that it also plots points (1,1) and (2,5)."
      ]
    },
    {
      "cell_type": "code",
      "metadata": {
        "id": "YkRIMNimF0rm",
        "colab": {
          "base_uri": "https://localhost:8080/",
          "height": 487
        },
        "outputId": "3fdd4833-6254-4de5-9279-13d25ca2efc8"
      },
      "source": [
        "import matplotlib.pyplot as plt\n",
        "\n",
        "# only change the next two lines:\n",
        "x = [4,1,2]\n",
        "y = [2,1,5]\n",
        "\n",
        "# Only change code above this line\n",
        "\n",
        "xmin = -10\n",
        "xmax = 10\n",
        "ymin = -10\n",
        "ymax = 10\n",
        "\n",
        "fig, ax = plt.subplots()\n",
        "plt.axis([xmin,xmax,ymin,ymax]) # window size\n",
        "plt.plot([xmin,xmax],[0,0],'b') # blue x axis\n",
        "plt.plot([0,0],[ymin,ymax],'b') # blue y axis\n",
        "\n",
        "plt.plot(x, y, 'ro') # red points\n",
        "plt.show()\n",
        "\n",
        "\n",
        "# Only change code above this line\n",
        "import math_code_test_b as test\n",
        "test.step06(In[-1].split('# Only change code above this line')[0])"
      ],
      "execution_count": null,
      "outputs": [
        {
          "output_type": "display_data",
          "data": {
            "text/plain": [
              "<Figure size 640x480 with 1 Axes>"
            ],
            "image/png": "[encoded data removed]"
          },
          "metadata": {}
        },
        {
          "output_type": "stream",
          "name": "stdout",
          "text": [
            " \n",
            "Code test passed\n",
            "Go on to the next step\n"
          ]
        }
      ]
    },
    {
      "cell_type": "markdown",
      "metadata": {
        "id": "3MqIpFTOF1m9"
      },
      "source": [
        "# Step 7 - Plotting Points and Lines"
      ]
    },
    {
      "cell_type": "markdown",
      "metadata": {
        "id": "1O1_p4BqF1m-"
      },
      "source": [
        "Notice the subtle difference between plotting points and lines. Each `plot()` statement takes an array of x values, an array of y values, and a third argument to tell what you are plotting. The default plot is a line. The letters `'r'` and `'b'` (and `'g'` and a few others) indicate common colors. The \"o\" in `'ro'` indicates a dot, where `'rs'` would indicate a red square and `'r^'` would indicate a red triangle. Plot a red line and two green squares."
      ]
    },
    {
      "cell_type": "code",
      "metadata": {
        "id": "oMRcOD7hF1m-",
        "colab": {
          "base_uri": "https://localhost:8080/",
          "height": 487
        },
        "outputId": "9b1c2b8c-c0ee-4f49-e343-986ebdb321fb"
      },
      "source": [
        "import matplotlib.pyplot as plt\n",
        "\n",
        "# Use these numbers:\n",
        "linex = [2,4]\n",
        "liney = [1,5]\n",
        "pointx = [1,6]\n",
        "pointy = [6,3]\n",
        "\n",
        "# Keep these lines:\n",
        "xmin = -10\n",
        "xmax = 10\n",
        "ymin = -10\n",
        "ymax = 10\n",
        "\n",
        "fig, ax = plt.subplots()\n",
        "plt.axis([xmin,xmax,ymin,ymax]) # window size\n",
        "plt.plot([xmin,xmax],[0,0],'b') # blue x axis\n",
        "plt.plot([0,0],[ymin,ymax], 'b') # blue y axis\n",
        "\n",
        "# Change the next two lines:\n",
        "plt.plot(linex, liney, 'r')\n",
        "plt.plot(pointx, pointy, 'gs')\n",
        "\n",
        "plt.show()\n",
        "\n",
        "\n",
        "# Only change code above this line\n",
        "import math_code_test_b as test\n",
        "test.step07(In[-1].split('# Only change code above this line')[0])"
      ],
      "execution_count": null,
      "outputs": [
        {
          "output_type": "display_data",
          "data": {
            "text/plain": [
              "<Figure size 640x480 with 1 Axes>"
            ],
            "image/png": "[encoded data removed]"
          },
          "metadata": {}
        },
        {
          "output_type": "stream",
          "name": "stdout",
          "text": [
            " \n",
            "Code test passed\n",
            "Go on to the next step\n"
          ]
        }
      ]
    },
    {
      "cell_type": "markdown",
      "metadata": {
        "id": "NKq_qwCsF3Dj"
      },
      "source": [
        "# Step 8 - Making a Scatterplot Game"
      ]
    },
    {
      "cell_type": "markdown",
      "metadata": {
        "id": "sBh-rNyOF3Dk"
      },
      "source": [
        "To make the game, you can make a loop that plots a random point and asks the user to input the (x,y) coordinates. Notice the `for` loop that runs three rounds of the game. Run the code, play the game, then you can go on to the next step."
      ]
    },
    {
      "cell_type": "code",
      "metadata": {
        "id": "uR5TFWbLF3Dk"
      },
      "source": [
        "import matplotlib.pyplot as plt\n",
        "import random\n",
        "\n",
        "score = 0\n",
        "\n",
        "xmin = -8\n",
        "xmax = 8\n",
        "ymin = -8\n",
        "ymax = 8\n",
        "\n",
        "fig, ax = plt.subplots()\n",
        "\n",
        "for i in range(0,3):\n",
        "    xpoint = random.randint(xmin, xmax)\n",
        "    ypoint = random.randint(ymin, ymax)\n",
        "    x = [xpoint]\n",
        "    y = [ypoint]\n",
        "    plt.axis([xmin,xmax,ymin,ymax]) # window size\n",
        "    plt.plot([xmin,xmax],[0,0],'b') # blue x axis\n",
        "    plt.plot([0,0],[ymin,ymax], 'b') # blue y axis\n",
        "    plt.plot(x, y, 'ro')\n",
        "    print(\" \")\n",
        "    plt.grid() # displays grid lines on graph\n",
        "    plt.show()\n",
        "    guess = input(\"Enter the coordinates of the red point point: \\n\")\n",
        "    guess_array = guess.split(\",\")\n",
        "    xguess = int(guess_array[0])\n",
        "    yguess = int(guess_array[1])\n",
        "    if xguess == xpoint and yguess == ypoint:\n",
        "        score = score + 1\n",
        "\n",
        "print(\"Your score: \", score) # notice this is not in the loop\n",
        "\n",
        "\n",
        "# Only change code above this line\n",
        "import math_code_test_b as test\n",
        "test.step08(score)"
      ],
      "execution_count": null,
      "outputs": []
    },
    {
      "cell_type": "markdown",
      "metadata": {
        "id": "wvdngkOTF4Hi"
      },
      "source": [
        "# Step 9 - Graphing Linear Equations"
      ]
    },
    {
      "cell_type": "markdown",
      "metadata": {
        "id": "fTzBZAmtF4Hj"
      },
      "source": [
        "Besides graphing points, you can graph <i>linear equations</i> (or <i>functions</i>). The graph will be a straight line, and the equation will not have any exponents. For these graphs, you will import `numpy` and use the `linspace()` function to define the x values. That function takes three arguments: starting number, ending number, and number of steps. Notice the `plot()` function only has two arguments: the x values and a function (y = 2x - 3) for the y values. Run this code, then use the same x values to graph `y = -x + 3`."
      ]
    },
    {
      "cell_type": "code",
      "metadata": {
        "id": "xJ0pkcFsF4Hj",
        "colab": {
          "base_uri": "https://localhost:8080/",
          "height": 487
        },
        "outputId": "5dab3521-91c2-484e-ae35-dee718468dd4"
      },
      "source": [
        "import matplotlib.pyplot as plt\n",
        "import numpy as np\n",
        "\n",
        "xmin = -10\n",
        "xmax = 10\n",
        "ymin = -10\n",
        "ymax = 10\n",
        "\n",
        "fig, ax = plt.subplots()\n",
        "plt.axis([xmin,xmax,ymin,ymax]) # window size\n",
        "plt.plot([xmin,xmax],[0,0],'b') # blue x axis\n",
        "plt.plot([0,0],[ymin,ymax], 'b') # blue y axis\n",
        "\n",
        "x = np.linspace(-9,9,36)\n",
        "\n",
        "# Only change the next line to graph y = -x + 3\n",
        "plt.plot(x, -x + 3)\n",
        "\n",
        "\n",
        "\n",
        "plt.show()\n",
        "\n",
        "\n",
        "# Only change code above this line\n",
        "import math_code_test_b as test\n",
        "test.step09(In[-1].split('# Only change code above this line')[0])"
      ],
      "execution_count": null,
      "outputs": [
        {
          "output_type": "display_data",
          "data": {
            "text/plain": [
              "<Figure size 640x480 with 1 Axes>"
            ],
            "image/png": "[encoded data removed]"
          },
          "metadata": {}
        },
        {
          "output_type": "stream",
          "name": "stdout",
          "text": [
            " \n",
            "Code test passed\n",
            "Go on to the next step\n"
          ]
        }
      ]
    },
    {
      "cell_type": "markdown",
      "metadata": {
        "id": "Q19Wm90DF5zf"
      },
      "source": [
        "# Step 10 - Creating Interactive Graphs"
      ]
    },
    {
      "cell_type": "markdown",
      "metadata": {
        "id": "JNEjD9DxF5zh"
      },
      "source": [
        "Like the previous graphs, you will graph a line. This time, you will create two sliders to change the <i>slope</i> and the <i>y intecept</i>. Notice the additional imports and other changes: You define a function with two arguments. All of the graphing happens within that `f(m,b)` function. The `interactive()` function calls your defined function and sets the boundaries for the sliders. Run this code then adjust the sliders and notice how they affect the graph."
      ]
    },
    {
      "cell_type": "code",
      "metadata": {
        "id": "9lh41CENF5zh",
        "colab": {
          "base_uri": "https://localhost:8080/",
          "height": 551,
          "referenced_widgets": [
            "3a061f3829cc422e873d83770d33f9b0",
            "f6e2e995be894059a2ca5856f9f99346",
            "87ff0cb34ad74483960900a46d76d509",
            "0d674b034d814fa6912e56c881c70288",
            "3422ba65952e4b77ad2e852af6ab5d80",
            "48a617d22f844796a03b0711aacf8c02",
            "836eb9f801414bd781b850a8f120a4c2",
            "da6ce68deaa3450a8f4886cf8e105873",
            "1e46edd2ffec46e6ad3ae50fd1593638",
            "203c484651e94ecc91fc0618d2fdedd9"
          ]
        },
        "outputId": "d0e1084f-e201-47b2-9dd1-0f7a286e4410"
      },
      "source": [
        "%matplotlib inline\n",
        "from ipywidgets import interactive\n",
        "import matplotlib.pyplot as plt\n",
        "import numpy as np\n",
        "\n",
        "# Define the graphing function\n",
        "def f(m, b):\n",
        "    xmin = -10\n",
        "    xmax = 10\n",
        "    ymin = -10\n",
        "    ymax = 10\n",
        "    plt.axis([xmin,xmax,ymin,ymax]) # window size\n",
        "    plt.plot([xmin,xmax],[0,0],'black') # black x axis\n",
        "    plt.plot([0,0],[ymin,ymax], 'black') # black y axis\n",
        "    plt.title('y = mx + b')\n",
        "    x = np.linspace(-10, 10, 1000)\n",
        "    plt.plot(x, m*x+b)\n",
        "    plt.show()\n",
        "\n",
        "# Set up the sliders\n",
        "interactive_plot = interactive(f, m=(-9, 9), b=(-9, 9))\n",
        "interactive_plot\n",
        "\n",
        "\n",
        "# Just run this code and use the sliders\n",
        "import math_code_test_b as test\n",
        "test.step01()\n",
        "interactive_plot"
      ],
      "execution_count": null,
      "outputs": [
        {
          "output_type": "stream",
          "name": "stdout",
          "text": [
            "Code test Passed\n",
            "Go on to the next step\n"
          ]
        },
        {
          "output_type": "display_data",
          "data": {
            "text/plain": [
              "interactive(children=(IntSlider(value=0, description='m', max=9, min=-9), IntSlider(value=0, description='b', …"
            ],
            "application/vnd.jupyter.widget-view+json": {
              "version_major": 2,
              "version_minor": 0,
              "model_id": "3a061f3829cc422e873d83770d33f9b0"
            }
          },
          "metadata": {}
        }
      ]
    },
    {
      "cell_type": "markdown",
      "metadata": {
        "id": "YSY2k7S3F6d7"
      },
      "source": [
        "# Step 11 - Graphing Systems"
      ]
    },
    {
      "cell_type": "markdown",
      "metadata": {
        "id": "8MG28-VPF6d8"
      },
      "source": [
        "When you graph two equations on the same coordinate plane, they are a <i>system of equations</i>. Notice how the `points` variable defines the number of points and the `linspace()` function uses that variable. Run this code to see the graph, then change `y2` so that it graphs y = -x - 3."
      ]
    },
    {
      "cell_type": "code",
      "metadata": {
        "id": "wYHGm-PAF6d9",
        "colab": {
          "base_uri": "https://localhost:8080/",
          "height": 487
        },
        "outputId": "bb24fc8d-5db5-4d8a-ddfb-606fab92265f"
      },
      "source": [
        "import matplotlib.pyplot as plt\n",
        "import numpy as np\n",
        "\n",
        "\n",
        "xmin = -10\n",
        "xmax = 10\n",
        "ymin = -10\n",
        "ymax = 10\n",
        "points = 2*(xmax-xmin)\n",
        "\n",
        "# Define the x values once\n",
        "x = np.linspace(xmin,xmax,points)\n",
        "\n",
        "fig, ax = plt.subplots()\n",
        "plt.axis([xmin,xmax,ymin,ymax]) # window size\n",
        "plt.plot([xmin,xmax],[0,0],'b') # blue x axis\n",
        "plt.plot([0,0],[ymin,ymax], 'b') # blue y axis\n",
        "\n",
        "# line 1\n",
        "y1 = 2*x\n",
        "plt.plot(x, y1)\n",
        "\n",
        "# line 2\n",
        "y2 = -x - 3\n",
        "plt.plot(x, y2)\n",
        "\n",
        "plt.show()\n",
        "\n",
        "\n",
        "# Only change code above this line\n",
        "import math_code_test_b as test\n",
        "test.step11(In[-1].split('# Only change code above this line')[0])"
      ],
      "execution_count": null,
      "outputs": [
        {
          "output_type": "display_data",
          "data": {
            "text/plain": [
              "<Figure size 640x480 with 1 Axes>"
            ],
            "image/png": "[encoded data removed]"
          },
          "metadata": {}
        },
        {
          "output_type": "stream",
          "name": "stdout",
          "text": [
            " \n",
            "Code test passed\n",
            "Go on to the next step\n"
          ]
        }
      ]
    },
    {
      "cell_type": "markdown",
      "metadata": {
        "id": "ykj42UNeF7K5"
      },
      "source": [
        "# Step 12 - Systems of Equations - Algebra"
      ]
    },
    {
      "cell_type": "markdown",
      "metadata": {
        "id": "n_-rpo6nF7K7"
      },
      "source": [
        "In a system of equations, the solution is the point where the two equations intersect, the (x,y) values that work in each equation. To work with algabraic expressions, you will import `sympy` and define x and y as symbols. If you have two equations and two variables, set each equation equal to zero. The `linsolve()` function takes the non-zero side of each equation and the variables used. Notice the syntax. Run the code, then change the two equations to solve 2x + y - 15 = 0 and 3x - y = 0."
      ]
    },
    {
      "cell_type": "code",
      "metadata": {
        "id": "6dFzZfqRF7K7",
        "colab": {
          "base_uri": "https://localhost:8080/"
        },
        "outputId": "42322249-8ee6-4e98-84e0-5b09e3a8ec1a"
      },
      "source": [
        "from sympy import *\n",
        "x,y = symbols('x y')\n",
        "\n",
        "\n",
        "# Change the equations in the following line:\n",
        "print(linsolve([2*x + y - 15, 3*x - y], (x, y)))\n",
        "\n",
        "\n",
        "# Only change code above this line\n",
        "import math_code_test_b as test\n",
        "test.step12(In[-1].split('# Only change code above this line')[0])"
      ],
      "execution_count": null,
      "outputs": [
        {
          "output_type": "stream",
          "name": "stdout",
          "text": [
            "{(3, 9)}\n",
            " \n",
            "Code test passed\n",
            "Go on to the next step\n"
          ]
        }
      ]
    },
    {
      "cell_type": "markdown",
      "source": [
        "# Step 13 - Solutions as Coordinates"
      ],
      "metadata": {
        "id": "QSKeBTgXHRAv"
      }
    },
    {
      "cell_type": "markdown",
      "source": [
        "The `linsolve()` function returns a <i>finite set</i>, and you can convert that \"finite set\" into (x,y) coordinates. Notice how the code parses the `solution` variable into two separate variables. Just run the code to see how this works."
      ],
      "metadata": {
        "id": "D2Ca3L-fHCzi"
      }
    },
    {
      "cell_type": "code",
      "source": [
        "from sympy import *\n",
        "x,y = symbols('x y')\n",
        "\n",
        "# Use variables for each equation\n",
        "first = x + y\n",
        "second = x - y\n",
        "\n",
        "# parse finite set answer as coordinate pair\n",
        "solution = linsolve([first, second], (x, y))\n",
        "x_solution = solution.args[0][0]\n",
        "y_solution = solution.args[0][1]\n",
        "\n",
        "print(\"x = \", x_solution)\n",
        "print(\"y = \", y_solution)\n",
        "print(\" \")\n",
        "print(\"Solution: (\",x_solution,\",\",y_solution,\")\")\n",
        "\n",
        "\n",
        "# Just run this code\n",
        "import math_code_test_b as test\n",
        "test.step01()"
      ],
      "metadata": {
        "id": "7uhBD85SHK3S",
        "colab": {
          "base_uri": "https://localhost:8080/"
        },
        "outputId": "5a102b9c-08ea-4db8-e6a6-827a8189e0f8"
      },
      "execution_count": null,
      "outputs": [
        {
          "output_type": "stream",
          "name": "stdout",
          "text": [
            "x =  0\n",
            "y =  0\n",
            " \n",
            "Solution: ( 0 , 0 )\n",
            "Code test Passed\n",
            "Go on to the next step\n"
          ]
        }
      ]
    },
    {
      "cell_type": "markdown",
      "metadata": {
        "id": "0epVLhL0F88U"
      },
      "source": [
        "# Step 14 - Systems from User Input"
      ]
    },
    {
      "cell_type": "markdown",
      "metadata": {
        "id": "VhoI5uNrF88V"
      },
      "source": [
        "For more flexibility, you can get each equation as user input (instead of defining them in the code). Run this code and try it out - to solve any system of two equations."
      ]
    },
    {
      "cell_type": "code",
      "metadata": {
        "id": "8irtXhucF88W",
        "colab": {
          "base_uri": "https://localhost:8080/"
        },
        "outputId": "304a1dd2-740a-4624-f3c7-6cdb90748ac3"
      },
      "source": [
        "from sympy import *\n",
        "\n",
        "x,y = symbols('x y')\n",
        "print(\"Remember to use Python syntax with x and y as variables\")\n",
        "print(\"Notice how each equation is already set equal to zero\")\n",
        "first = input(\"Enter the first equation: 0 = \")\n",
        "second = input(\"Enter the second equation: 0 = \")\n",
        "solution = linsolve([first, second], (x, y))\n",
        "x_solution = solution.args[0][0]\n",
        "y_solution = solution.args[0][1]\n",
        "\n",
        "print(\"x = \", x_solution)\n",
        "print(\"y = \", y_solution)\n",
        "\n",
        "\n",
        "# Just run this code and test it with different equations\n",
        "import math_code_test_b as test\n",
        "test.step14()"
      ],
      "execution_count": null,
      "outputs": [
        {
          "output_type": "stream",
          "name": "stdout",
          "text": [
            "Remember to use Python syntax with x and y as variables\n",
            "Notice how each equation is already set equal to zero\n",
            "Enter the first equation: 0 = x + 2\n",
            "Enter the second equation: 0 = y + 2\n",
            "x =  -2\n",
            "y =  -2\n",
            " \n",
            "If you didn't get a syntax error, code test passed\n"
          ]
        }
      ]
    },
    {
      "cell_type": "markdown",
      "source": [
        "# Step 15 - Solve and graph a system"
      ],
      "metadata": {
        "id": "8FCFQaq1Hizh"
      }
    },
    {
      "cell_type": "markdown",
      "source": [
        "Now you can put it all together: solve a system of equations, graph the system, and plot a point where the two lines intersect. Notice how this code is not like the previous solving equations code or the graphing code or the user input code. Python uses `sympy` to get the (x,y) solution and `numpy` to get the values to graph, so the user inputs nummerical values and the code uses them in two different ways. Think about how you would do this if the user input values for ax + by = c."
      ],
      "metadata": {
        "id": "wMwKLQvyHaWp"
      }
    },
    {
      "cell_type": "code",
      "source": [
        "from sympy import *\n",
        "import matplotlib.pyplot as plt\n",
        "import numpy as np\n",
        "\n",
        "print(\"First equation: y = mx + b\")\n",
        "mb_1 = input(\"Enter m and b, separated by a comma: \")\n",
        "mb_in1 = mb_1.split(\",\")\n",
        "m1 = float(mb_in1[0])\n",
        "b1 = float(mb_in1[1])\n",
        "\n",
        "print(\"Second equation: y = mx + b\")\n",
        "mb_2 = input(\"Enter m and b, separated by a comma: \")\n",
        "mb_in2 = mb_2.split(\",\")\n",
        "m2 = float(mb_in2[0])\n",
        "b2 = float(mb_in2[1])\n",
        "\n",
        "# Solve the system of equations\n",
        "x,y = symbols('x y')\n",
        "first = m1*x + b1 - y\n",
        "second = m2*x + b2 - y\n",
        "solution = linsolve([first, second], (x, y))\n",
        "x_solution = round(float(solution.args[0][0]),3)\n",
        "y_solution = round(float(solution.args[0][1]),3)\n",
        "\n",
        "# Make sure the window includes the solution\n",
        "xmin = int(x_solution) - 20\n",
        "xmax = int(x_solution) + 20\n",
        "ymin = int(y_solution) - 20\n",
        "ymax = int(y_solution) + 20\n",
        "points = 2*(xmax-xmin)\n",
        "\n",
        "# Define the x values once for the graph\n",
        "graph_x = np.linspace(xmin,xmax,points)\n",
        "\n",
        "# Define the y values for the graph\n",
        "y1 = m1*graph_x + b1\n",
        "y2 = m2*graph_x + b2\n",
        "\n",
        "fig, ax = plt.subplots()\n",
        "plt.axis([xmin,xmax,ymin,ymax]) # window size\n",
        "plt.plot([xmin,xmax],[0,0],'b') # blue x axis\n",
        "plt.plot([0,0],[ymin,ymax], 'b') # blue y axis\n",
        "\n",
        "# line 1\n",
        "plt.plot(graph_x, y1)\n",
        "\n",
        "# line 2\n",
        "plt.plot(graph_x, y2)\n",
        "\n",
        "# point\n",
        "plt.plot([x_solution],[y_solution],'ro')\n",
        "\n",
        "plt.show()\n",
        "print(\" \")\n",
        "print(\"Solution: (\", x_solution, \",\", y_solution, \")\")\n",
        "\n",
        "\n",
        "# Run this code and test it with different equations\n"
      ],
      "metadata": {
        "id": "wLBNm5j6HffY",
        "colab": {
          "base_uri": "https://localhost:8080/",
          "height": 534
        },
        "outputId": "6018eab8-9a60-4567-ac3c-57bd508a59a6"
      },
      "execution_count": null,
      "outputs": [
        {
          "name": "stdout",
          "output_type": "stream",
          "text": [
            "First equation: y = mx + b\n",
            "Enter m and b, separated by a comma: 2, 0\n",
            "Second equation: y = mx + b\n",
            "Enter m and b, separated by a comma: 5, 5\n"
          ]
        },
        {
          "output_type": "display_data",
          "data": {
            "text/plain": [
              "<Figure size 640x480 with 1 Axes>"
            ],
            "image/png": "[encoded data removed]"
          },
          "metadata": {}
        },
        {
          "output_type": "stream",
          "name": "stdout",
          "text": [
            " \n",
            "Solution: ( -1.667 , -3.333 )\n"
          ]
        }
      ]
    },
    {
      "cell_type": "markdown",
      "metadata": {
        "id": "BhKPZQJZF9w0"
      },
      "source": [
        "# Step 16 - Quadratic Functions"
      ]
    },
    {
      "cell_type": "markdown",
      "metadata": {
        "id": "BYmD2FYHF9w1"
      },
      "source": [
        "Any function that involves x<sup>2</sup> is a \"quadratic\" function because \"x squared\" could be the area of a square. The graph is a parabola. The formula is y = ax<sup>2</sup> + bx + c, where `b` and `c` can be zero but `a` has to be a number. Here is a graph of the simplest parabola."
      ]
    },
    {
      "cell_type": "code",
      "metadata": {
        "id": "sfQl_A1CF9w1",
        "colab": {
          "base_uri": "https://localhost:8080/",
          "height": 470
        },
        "outputId": "dfa474a2-4b24-4e4c-fe39-d344462c80fc"
      },
      "source": [
        "import matplotlib.pyplot as plt\n",
        "import numpy as np\n",
        "\n",
        "xmin = -10\n",
        "xmax = 10\n",
        "ymin = -10\n",
        "ymax = 10\n",
        "points = 2*(xmax-xmin)\n",
        "x = np.linspace(xmin,xmax,points)\n",
        "\n",
        "fig, ax = plt.subplots()\n",
        "plt.axis([xmin,xmax,ymin,ymax]) # window size\n",
        "plt.plot([xmin,xmax],[0,0],'b') # blue x axis\n",
        "plt.plot([0,0],[ymin,ymax], 'b') # blue y axis\n",
        "\n",
        "y = x**2\n",
        "\n",
        "plt.plot(x,y)\n",
        "plt.show()\n",
        "\n",
        "# Just run this code. The next step will transform the graph\n",
        "import math_code_test_b as test\n",
        "test.step01()"
      ],
      "execution_count": null,
      "outputs": [
        {
          "output_type": "display_data",
          "data": {
            "text/plain": [
              "<Figure size 640x480 with 1 Axes>"
            ],
            "image/png": "[encoded data removed]"
          },
          "metadata": {}
        },
        {
          "output_type": "stream",
          "name": "stdout",
          "text": [
            "Code test Passed\n",
            "Go on to the next step\n"
          ]
        }
      ]
    },
    {
      "cell_type": "markdown",
      "metadata": {
        "id": "I0mklEluF-jI"
      },
      "source": [
        "# Step 17 - Quadratic Function ABC's"
      ]
    },
    {
      "cell_type": "markdown",
      "metadata": {
        "id": "AJuHf8ySF-jJ"
      },
      "source": [
        "Using the parabola formula y = ax<sup>2</sup> + bx + c, you will change the values of `a`, `b`, and `c` to see how they affect the graph. Run the code and use the sliders to change the values of `a` and `b`. Then change the code in the three places indicated to add a slider for `c`. You may remember this type of interactive graph from an earlier step. Move each slider to see how it affects the graph."
      ]
    },
    {
      "cell_type": "code",
      "metadata": {
        "id": "9IVFnXxVF-jJ",
        "colab": {
          "base_uri": "https://localhost:8080/",
          "height": 583,
          "referenced_widgets": [
            "bc0d12f8d4f74089ab0ee23b92ce2580",
            "efe57b2fa7e1496b92482811aec9f998",
            "e153784066ad474ca174cd24c94503a4",
            "dac77381deb84cd7a7cc430eaed45233",
            "39712c847dd941b69d968220b884ae13",
            "49804733563b49bdba6ad6e11fe77352",
            "773a612254064f5c923b20f80547e0ee",
            "ffcb57ee9e1e4b9a95666fb75aa1df66",
            "fba45f18f93f46d0b707800a0ff2ccf9",
            "4a3ca437b769432cbc5a7c45d522c83a",
            "d4e585357877469fa112f2d4ccfeeae8",
            "864280f7661a46c9b0e579fb50c612df",
            "aeeda2ca643a41a59b5f822823246a72"
          ]
        },
        "outputId": "d5f08086-19b5-49cf-f153-e32d50fa9fcd"
      },
      "source": [
        "%matplotlib inline\n",
        "from ipywidgets import interactive\n",
        "import matplotlib.pyplot as plt\n",
        "import numpy as np\n",
        "\n",
        "# Change the next line to include c:\n",
        "def f(a,b,c):\n",
        "    plt.axis([-10,10,-10,10]) # window size\n",
        "    plt.plot([-10,10],[0,0],'k') # blue x axis\n",
        "    plt.plot([0,0],[-10,10], 'k') # blue y axis\n",
        "    x = np.linspace(-10, 10, 1000)\n",
        "\n",
        "    # Change the next line to add c to the end of the function:\n",
        "    plt.plot(x, a*x**2 + b*x + c)\n",
        "    plt.show()\n",
        "\n",
        "# Change the next line to add a slider to change the c value\n",
        "interactive_plot = interactive(f, a=(-9, 9), b=(-9,9), c=(-9,9))\n",
        "interactive_plot\n",
        "\n",
        "\n",
        "# Run the code once, then change the code and run it again\n",
        "\n",
        "# Only change code above this line\n",
        "import math_code_test_b as test\n",
        "test.step17(In[-1].split('# Only change code above this line')[0])\n",
        "interactive_plot"
      ],
      "execution_count": null,
      "outputs": [
        {
          "output_type": "stream",
          "name": "stdout",
          "text": [
            "Code test passed\n",
            "Go on to the next step\n",
            " \n"
          ]
        },
        {
          "output_type": "display_data",
          "data": {
            "text/plain": [
              "interactive(children=(IntSlider(value=0, description='a', max=9, min=-9), IntSlider(value=0, description='b', …"
            ],
            "application/vnd.jupyter.widget-view+json": {
              "version_major": 2,
              "version_minor": 0,
              "model_id": "bc0d12f8d4f74089ab0ee23b92ce2580"
            }
          },
          "metadata": {}
        }
      ]
    },
    {
      "cell_type": "markdown",
      "metadata": {
        "id": "eFehWNexGASC"
      },
      "source": [
        "# Step 18 - Quadratic Functions - Vertex"
      ]
    },
    {
      "cell_type": "markdown",
      "metadata": {
        "id": "p8hAZw_CGASD"
      },
      "source": [
        "The <i>vertex</i> is the point where the parabola turns around. The x value of the vertex is $\\frac{-b}{2a}$ (and then you would calculate the y value to get the point). Write the code to find the vertex, given `a`, `b`, and `c` as inputs. Remember the parabola forumula is y = ax<sup>2</sup> + bx + c"
      ]
    },
    {
      "cell_type": "code",
      "metadata": {
        "id": "cjMI5uZZGASD",
        "colab": {
          "base_uri": "https://localhost:8080/",
          "height": 591
        },
        "outputId": "69a5b56e-30e4-4ff3-b5ae-5c131c68f8d5"
      },
      "source": [
        "import matplotlib.pyplot as plt\n",
        "import numpy as np\n",
        "\n",
        "# \\u00b2 prints 2 as an exponent\n",
        "print(\"y = ax\\u00b2 + bx + c\")\n",
        "\n",
        "a = float(input(\"a = \"))\n",
        "b = float(input(\"b = \"))\n",
        "c = float(input(\"c = \"))\n",
        "\n",
        "# Write your code here, changing vx and vy\n",
        "vx = -b/(2*a)\n",
        "vy = a*vx**2 + b*vx + c\n",
        "\n",
        "\n",
        "# Only change the code above this line\n",
        "\n",
        "print(\" (\", vx, \" , \", vy, \")\")\n",
        "print(\" \")\n",
        "\n",
        "xmin = int(vx)-10\n",
        "xmax = int(vx)+10\n",
        "ymin = int(vy)-10\n",
        "ymax = int(vy)+10\n",
        "points = 2*(xmax-xmin)\n",
        "x = np.linspace(xmin,xmax,points)\n",
        "\n",
        "fig, ax = plt.subplots()\n",
        "plt.axis([xmin,xmax,ymin,ymax]) # window size\n",
        "plt.plot([xmin,xmax],[0,0],'b') # blue x axis\n",
        "plt.plot([0,0],[ymin,ymax], 'b') # blue y axis\n",
        "\n",
        "plt.plot([vx],[vy],'ro') # vertex\n",
        "\n",
        "x = np.linspace(vx-10,vx+10,100)\n",
        "y = a*x**2 + b*x + c\n",
        "plt.plot(x,y)\n",
        "\n",
        "plt.show()\n",
        "\n",
        "\n",
        "# Only change code above this line\n",
        "import math_code_test_b as test\n",
        "test.step18(In[-1].split('# Only change code above this line')[0])"
      ],
      "execution_count": null,
      "outputs": [
        {
          "output_type": "stream",
          "name": "stdout",
          "text": [
            "y = ax² + bx + c\n",
            "a = 1\n",
            "b = 0\n",
            "c = 0\n",
            " ( -0.0  ,  0.0 )\n",
            " \n"
          ]
        },
        {
          "output_type": "display_data",
          "data": {
            "text/plain": [
              "<Figure size 640x480 with 1 Axes>"
            ],
            "image/png": "[encoded data removed]"
          },
          "metadata": {}
        },
        {
          "output_type": "stream",
          "name": "stdout",
          "text": [
            " \n",
            "Code test passed\n",
            "Go on to the next step\n"
          ]
        }
      ]
    },
    {
      "cell_type": "markdown",
      "metadata": {
        "id": "WbqugasGGCKJ"
      },
      "source": [
        "# Step 19 - Projectile Motion"
      ]
    },
    {
      "cell_type": "markdown",
      "metadata": {
        "id": "TtM_pFHaGCKK"
      },
      "source": [
        "The path of every projectile is a parabola. For something thrown or launched upward, the `a` value is -4.9 (meters per second squared); the `b` value is the initial velocity (in meters per second); the `c` value is the initial height (in meters); the `x` value is time (in seconds); and the `y` value is the height at that time. In this code, change `vx` and `vy` to represent the vertex. Plotting that (x,y) vertex point is already in the code."
      ]
    },
    {
      "cell_type": "code",
      "metadata": {
        "id": "FTNV_bjuGCKL",
        "colab": {
          "base_uri": "https://localhost:8080/",
          "height": 557
        },
        "outputId": "b6b1c140-e33b-487d-e779-da3c38a11e78"
      },
      "source": [
        "import matplotlib.pyplot as plt\n",
        "import numpy as np\n",
        "\n",
        "a = -4.9\n",
        "b = float(input(\"Initial velocity = \"))\n",
        "c = float(input(\"Initial height = \"))\n",
        "\n",
        "# Change vx and vy to represent the vertex\n",
        "vx = -b/(2*a)\n",
        "vy = a*vx**2 + b*vx + c\n",
        "\n",
        "\n",
        "# Also change the following dimensions to display the vertex\n",
        "xmin = -10\n",
        "xmax = 10\n",
        "ymin = -10\n",
        "ymax = 10\n",
        "\n",
        "# You do not need to change anything below this line\n",
        "points = 2*(xmax-xmin)\n",
        "x = np.linspace(xmin,xmax,points)\n",
        "y = a*x**2 + b*x + c\n",
        "\n",
        "fig, ax = plt.subplots()\n",
        "plt.axis([xmin,xmax,ymin,ymax]) # window size\n",
        "plt.plot([xmin,xmax],[0,0],'b') # blue x axis\n",
        "plt.plot([0,0],[ymin,ymax], 'b') # blue y axis\n",
        "\n",
        "plt.plot(x,y) # plot the line for the equation\n",
        "plt.plot([vx],[vy],'ro') # plot the vertex point\n",
        "\n",
        "print(\" (\", vx, \",\", vy, \")\")\n",
        "print(\" \")\n",
        "plt.show()\n",
        "\n",
        "\n",
        "# Only change code above this line\n",
        "import math_code_test_b as test\n",
        "test.step19(In[-1].split('# Only change code above this line')[0])"
      ],
      "execution_count": null,
      "outputs": [
        {
          "output_type": "stream",
          "name": "stdout",
          "text": [
            "Initial velocity = 5\n",
            "Initial height = 3\n",
            " ( 0.5102040816326531 , 4.275510204081632 )\n",
            " \n"
          ]
        },
        {
          "output_type": "display_data",
          "data": {
            "text/plain": [
              "<Figure size 640x480 with 1 Axes>"
            ],
            "image/png": "[encoded data removed]"
          },
          "metadata": {}
        },
        {
          "output_type": "stream",
          "name": "stdout",
          "text": [
            " \n",
            "Code test passed\n",
            "Go on to the next step\n"
          ]
        }
      ]
    },
    {
      "cell_type": "markdown",
      "metadata": {
        "id": "hN_fvENUGBAm"
      },
      "source": [
        "# Step 20 - Quadratic Functions - C"
      ]
    },
    {
      "cell_type": "markdown",
      "metadata": {
        "id": "GrJNli5pGBAn"
      },
      "source": [
        "Like many other functions, the `c` value (also called the \"constant\" because it is not a variable) affects the vertical shift of the graph. Run the following code to see how changing the `c` value changes the graph."
      ]
    },
    {
      "cell_type": "code",
      "metadata": {
        "id": "hiSN0VexGBAn",
        "colab": {
          "base_uri": "https://localhost:8080/",
          "height": 487
        },
        "outputId": "626bd3e8-a3b5-4fe7-8505-6ca9b19553e3"
      },
      "source": [
        "import matplotlib.pyplot as plt\n",
        "import numpy as np\n",
        "import time\n",
        "from IPython import display\n",
        "\n",
        "x = np.linspace(-4,4,16)\n",
        "fig, ax = plt.subplots()\n",
        "cvalue = \"c = \"\n",
        "\n",
        "for c in range(10):\n",
        "    y = -x**2+c\n",
        "    plt.plot(x,y)\n",
        "    cvalue = \"c = \", c\n",
        "    ax.set_title(cvalue)\n",
        "    display.display(plt.gcf())\n",
        "    time.sleep(0.5)\n",
        "    display.clear_output(wait=True)\n",
        "\n",
        "# Just run this code\n",
        "import math_code_test_b as test\n",
        "test.step01()"
      ],
      "execution_count": null,
      "outputs": [
        {
          "output_type": "stream",
          "name": "stdout",
          "text": [
            "Code test Passed\n",
            "Go on to the next step\n"
          ]
        },
        {
          "output_type": "display_data",
          "data": {
            "text/plain": [
              "<Figure size 640x480 with 1 Axes>"
            ],
            "image/png": "[encoded data removed]"
          },
          "metadata": {}
        }
      ]
    },
    {
      "cell_type": "markdown",
      "metadata": {
        "id": "vteEy9QFGD5I"
      },
      "source": [
        "# Step 21 - The Quadratic Formula"
      ]
    },
    {
      "cell_type": "markdown",
      "metadata": {
        "id": "xALyhEsNGD5J"
      },
      "source": [
        "For a projectile, you also need to find the point when it hits the ground. On a graph, you would call these points the \"roots\" or \"x intercepts\" or \"zeros\" (because y = 0 at these points). The <i>quadratic formula</i> gives you the x value when y = 0. Given `a`,`b` and `c`, here is the quadratic formula:<br> x = $\\frac{-b \\pm \\sqrt{b^2 - 4ac}}{2a}$ Notice it's the vertex plus or minus something: $\\frac{-b}{2a} + \\frac{\\sqrt{b^2 - 4ac}}{2a}$ and $\\frac{-b}{2a} - \\frac{\\sqrt{b^2 - 4ac}}{2a}$ <br>\n",
        "Write the code to output two x values, given a, b, and c as input. Use `math.sqrt()` for the square root."
      ]
    },
    {
      "cell_type": "code",
      "metadata": {
        "id": "R3OIh1pOGD5K",
        "colab": {
          "base_uri": "https://localhost:8080/"
        },
        "outputId": "0c8198e5-3e20-472b-c2a2-d194b6da168d"
      },
      "source": [
        "import math\n",
        "\n",
        "# \\u00b2 prints 2 as an exponent\n",
        "print(\"0 = ax\\u00b2 + bx + c\")\n",
        "a = float(input(\"a = \"))\n",
        "b = float(input(\"b = \"))\n",
        "c = float(input(\"c = \"))\n",
        "x1 = 0\n",
        "x2 = 0\n",
        "\n",
        "# Check for non-real answers:\n",
        "if b**2-4*a*c < 0:\n",
        "    print(\"No real roots\")\n",
        "else:\n",
        "    # Write your code here, changing x1 and x2\n",
        "    x1 = (-b + math.sqrt(b**2 - 4*a*c))/(2*a)\n",
        "    x2 = (-b - math.sqrt(b**2 - 4*a*c))/(2*a)\n",
        "    print(\"The roots are \", x1, \" and \", x2)\n",
        "\n",
        "\n",
        "\n",
        "# Only change code above this line\n",
        "import math_code_test_b as test\n",
        "test.step21(In[-1].split('# Only change code above this line')[0])"
      ],
      "execution_count": null,
      "outputs": [
        {
          "output_type": "stream",
          "name": "stdout",
          "text": [
            "0 = ax² + bx + c\n",
            "a = 2\n",
            "b = 4\n",
            "c = 8\n",
            "No real roots\n",
            " \n",
            "Code test passed\n",
            "Go on to the next step\n"
          ]
        }
      ]
    },
    {
      "cell_type": "markdown",
      "metadata": {
        "id": "VXxx7RCVSs4j"
      },
      "source": [
        "# Step 22 - Table of Values"
      ]
    },
    {
      "cell_type": "markdown",
      "metadata": {
        "id": "9Bd8bgPISiRH"
      },
      "source": [
        "In addition to graphing a function, you may need a table of values. This code shows how to make a simple table of (x,y) values. Run the code, then change the title to \"y = 3x + 2\" and change the function in the table."
      ]
    },
    {
      "cell_type": "code",
      "metadata": {
        "id": "e4dBSioJGGd3",
        "colab": {
          "base_uri": "https://localhost:8080/",
          "height": 480
        },
        "outputId": "c8d34288-b59f-4c0b-a7eb-a31861fe32b0"
      },
      "source": [
        "import numpy as np\n",
        "import matplotlib.pyplot as plt\n",
        "\n",
        "ax = plt.subplot()\n",
        "ax.set_axis_off()\n",
        "title = \"y = 3x + 2\" # Change this title\n",
        "cols = ('x', 'y')\n",
        "rows = [[0,0]]\n",
        "for a in range(1,10):\n",
        "    rows.append([a, 3*a+2]) # Change only the function in this line\n",
        "\n",
        "ax.set_title(title)\n",
        "plt.table(cellText=rows, colLabels=cols, cellLoc='center', loc='upper left')\n",
        "plt.show()\n",
        "\n",
        "\n",
        "# Only change code above this line\n",
        "import math_code_test_b as test\n",
        "test.step22(In[-1].split('# Only change code above this line')[0])"
      ],
      "execution_count": null,
      "outputs": [
        {
          "output_type": "display_data",
          "data": {
            "text/plain": [
              "<Figure size 640x480 with 1 Axes>"
            ],
            "image/png": "[encoded data removed]"
          },
          "metadata": {}
        },
        {
          "output_type": "stream",
          "name": "stdout",
          "text": [
            " \n",
            "Code test passed\n",
            "Go on to the next step\n"
          ]
        }
      ]
    },
    {
      "cell_type": "markdown",
      "metadata": {
        "id": "jpo7oASHGEu7"
      },
      "source": [
        "# Step 23 - Projectile Game"
      ]
    },
    {
      "cell_type": "markdown",
      "metadata": {
        "id": "WHx9faGkGEu7"
      },
      "source": [
        "Learn quadratic functions by building a projectile game. Starting at (0,0) you launch a toy rocket that must clear a wall. You can randomize the height and location of the wall. The goal is to determine what initial velocity would get the rocket over the wall. Bonus: make an animation of the path of the rocket.\n"
      ]
    },
    {
      "cell_type": "code",
      "metadata": {
        "id": "-yFfSgoeWHN3",
        "colab": {
          "base_uri": "https://localhost:8080/"
        },
        "outputId": "d3d04748-9f90-45a9-eff9-1d26e6f3061e"
      },
      "source": [
        "# Write your code here\n",
        "import matplotlib.pyplot as plt\n",
        "import numpy as np\n",
        "import sympy\n",
        "from sympy import symbols\n",
        "from sympy.solvers import solve\n",
        "\n",
        "a = -4.9\n",
        "\n",
        "print(\"This a a calculator to see how much initial velocity you would need to launch a toy rocket 1 foot over a wall from (0,0)!\")\n",
        "wally = int(input(\"Enter height of wall (1 - infinity): \"))\n",
        "wallx = int(input(\"Enter location of wall (1 - infinity: \"))\n",
        "\n",
        "if wally < 0 or wallx < 0:\n",
        "  print(\"Please enter a number greater than 0!\")\n",
        "\n",
        "\n",
        "b = symbols('b')\n",
        "target = wally + 1\n",
        "eq = -4.9*wallx**2 + b*wallx - target\n",
        "\n",
        "solved = solve(eq,b)\n",
        "ig = []\n",
        "ig.append(solved)\n",
        "velo = ig[0][0]\n",
        "\n",
        "print(\"Initial Velocity would have to be atleast: \", velo)\n",
        "\n",
        "# This step does not have a test"
      ],
      "execution_count": null,
      "outputs": [
        {
          "output_type": "stream",
          "name": "stdout",
          "text": [
            "This a a calculator to see how much initial velocity you would need to launch a toy rocket 1 foot over a wall from (0,0)!\n",
            "Enter height of wall (1 - infinity): 5\n",
            "Enter location of wall (1 - infinity: 5\n",
            "Initial Velocity would have to be atleast:  25.7000000000000\n"
          ]
        }
      ]
    },
    {
      "cell_type": "markdown",
      "source": [
        "# Step 24 - Define Graphing Functions"
      ],
      "metadata": {
        "id": "pE5o0-VMaIy3"
      }
    },
    {
      "cell_type": "markdown",
      "source": [
        "Building on what you have already done, create a menu with the following options:<br>\n",
        "<ul>\n",
        "<li>Display the graph and a table of values for any \"y=\" equation input</li>\n",
        "<li>Solve a system of two equations without graphing</li>\n",
        "<li>Graph two equations and plot the point of intersection</li>\n",
        "<li>Given a, b and c in a quadratic equation, plot the roots and vertex</li>\n",
        "</ul>\n",
        "Then think about how you will define a function for each item."
      ],
      "metadata": {
        "id": "c5tXoITnag_P"
      }
    },
    {
      "cell_type": "code",
      "source": [
        "# Write your code here\n",
        "import matplotlib.pyplot as plt\n",
        "import numpy as np\n",
        "from sympy import *\n",
        "from sympy.plotting import plot\n",
        "from sympy import sqrt\n",
        "\n",
        "def graph_and_table():\n",
        "    xmin = -10\n",
        "    xmax = 10\n",
        "    ymin = -10\n",
        "    ymax = 10\n",
        "    x_value = float(input(\"Enter x value: \"))\n",
        "    constant = float(input(\"Enter constant: \"))\n",
        "    fig, ax = plt.subplots()\n",
        "    plt.axis([xmin,xmax,ymin,ymax]) # window size\n",
        "    plt.plot([xmin,xmax],[0,0],'b') # blue x axis\n",
        "    plt.plot([0,0],[ymin,ymax], 'b') # blue y axis\n",
        "\n",
        "    print(\"x \\t y\")\n",
        "    for x in range(xmin, xmax+1):\n",
        "      y = x_value*x + constant\n",
        "      plt.plot([x],[y], 'ro') # plotting points\n",
        "      print(x,\"\\t\",y)\n",
        "\n",
        "    plt.show()\n",
        "\n",
        "def solve_system_no_graph():\n",
        "  x,y = symbols('x y')\n",
        "  firstx = float(input(\"Enter first equation x value: \"))\n",
        "  firsty = float(input(\"Enter first equation constant: \"))\n",
        "  secondx = float(input(\"Enter second equation x value: \"))\n",
        "  secondy = float(input(\"Enter second equation constant: \"))\n",
        "  solution = linsolve([firstx*x+firsty, secondx*x+secondy], (x, y))\n",
        "  x_solution = solution.args[0][0]\n",
        "  y_solution = solution.args[0][1]\n",
        "  print(\"(\", x_solution, \",\", y_solution, \")\")\n",
        "\n",
        "def graph_system():\n",
        "  var('x y')\n",
        "  onea = float(input(\"Enter A value for first equation: \"))\n",
        "  oneb = float(input(\"Enter B value for first equation: \"))\n",
        "  onec = float(input(\"Enter C value for first equation: \"))\n",
        "  twoa = float(input(\"Enter A value for second equation: \"))\n",
        "  twob = float(input(\"Enter B value for second equation: \"))\n",
        "  twoc = float(input(\"Enter C value for second equation: \"))\n",
        "  first = onea*x**2 + oneb*y + onec\n",
        "  second = twoa*x**2 + twob*y + twoc\n",
        "  solution = nonlinsolve([first, second], (x, y))\n",
        "  for a in range(len(solution.args)):\n",
        "    x_solution = solution.args[a][0]\n",
        "    y_solution = solution.args[a][1]\n",
        "    print(\"Solution = (\", x_solution, \",\", y_solution, \")\")\n",
        "  y_first = Eq(first,0)\n",
        "  y1 = solve(y_first,y)\n",
        "  y_second = Eq(second,0)\n",
        "  y2 = solve(y_second,y)\n",
        "  print(\"y = \", y1[0])\n",
        "  print(\"y = \", y2[0])\n",
        "  x = symbols('x')\n",
        "  xmin = -10\n",
        "  xmax = 10\n",
        "  plot(y1[0], y2[0], (x,xmin,xmax))\n",
        "\n",
        "def quadratic_graph():\n",
        "  a = float(input(\"A value: \"))\n",
        "  b = float(input(\"B value: \"))\n",
        "  c = float(input(\"C value: \"))\n",
        "  print(\"y = \", a, \"x**2 + \", b, \"x + \", c)\n",
        "\n",
        "  vx = -b/(2*a)\n",
        "  vy = a*(vx**2) + b*vx + c\n",
        "  print(\"Vertex: (\",vx,\",\",vy,\")\")\n",
        "\n",
        "  xmin = -10\n",
        "  xmax = 10\n",
        "  ymin = -10\n",
        "  ymax = 10\n",
        "  points = 10*(xmax-xmin)\n",
        "  x = np.linspace(xmin,xmax,points)\n",
        "\n",
        "  fig, ax = plt.subplots()\n",
        "  plt.axis([xmin,xmax,ymin,ymax]) # window size\n",
        "  plt.plot([xmin,xmax],[0,0],'b') # blue x axis\n",
        "  plt.plot([0,0],[ymin,ymax], 'b') # blue y axis\n",
        "\n",
        "  y1 = a*x**2 + b*x + c\n",
        "  plt.plot(x, y1)\n",
        "  plt.plot([vx],[vy], 'ro')\n",
        "\n",
        "  d = b**2 - 4*a*c\n",
        "  if d>=0:\n",
        "    root_1 = (-b + math.sqrt(d))/(2*a)\n",
        "    root_2 = (-b - math.sqrt(d))/(2*a)\n",
        "    plt.plot([root_1, root_2],[0,0], 'go')\n",
        "    print(\"Roots: x = \", root_1, \" and x = \", root_2)\n",
        "\n",
        "  plt.show()\n",
        "# This step does not have a test"
      ],
      "metadata": {
        "id": "lvuStaKYalPo"
      },
      "execution_count": null,
      "outputs": []
    },
    {
      "cell_type": "markdown",
      "source": [
        "# Step 25 - Certification Project 2"
      ],
      "metadata": {
        "id": "D7ASvHg3b2Ph"
      }
    },
    {
      "cell_type": "markdown",
      "source": [
        "Build a graphing calculator that performs the functions mentioned in the previous step:\n",
        "<ul>\n",
        "<li>Display the graph and a table of values for any \"y=\" equation input</li>\n",
        "<li>Solve a system of two equations without graphing</li>\n",
        "<li>Graph two equations and plot the point of intersection</li>\n",
        "<li>Given a, b and c in a quadratic equation, plot the roots and vertex</li>\n",
        "</ul>\n",
        "Define each of the functions, and make each option call a function."
      ],
      "metadata": {
        "id": "KBcTUf08cRy1"
      }
    },
    {
      "cell_type": "code",
      "source": [
        "# Write your code here\n",
        "print(f'Choose Graphing Calculator Feature:\\n 1. Display the graph and a table of values for any \"y=\" equation input \\n 2. Solve a system of two equations without graphing \\n 3. Graph two equations and plot the point of intersection \\n 4. Given a, b and c in a quadratic equation, plot the roots and vertex \\n')\n",
        "choose = int(input(\"Enter # of Feature You would like to use: \"))\n",
        "if choose == 1:\n",
        "  graph_and_table()\n",
        "elif choose == 2:\n",
        "  solve_system_no_graph()\n",
        "elif choose == 3:\n",
        "  graph_system()\n",
        "elif choose == 4:\n",
        "  quadratic_graph()\n",
        "else:\n",
        "  print(\"Please try again!\")\n",
        "# This step does not have a test"
      ],
      "metadata": {
        "id": "bmuz1zCecVCX",
        "colab": {
          "base_uri": "https://localhost:8080/",
          "height": 643
        },
        "outputId": "16b6dec3-2301-4a5d-9d62-ca0ad65444d1"
      },
      "execution_count": null,
      "outputs": [
        {
          "output_type": "stream",
          "name": "stdout",
          "text": [
            "Choose Graphing Calculator Feature:\n",
            " 1. Display the graph and a table of values for any \"y=\" equation input \n",
            " 2. Solve a system of two equations without graphing \n",
            " 3. Graph two equations and plot the point of intersection \n",
            " 4. Given a, b and c in a quadratic equation, plot the roots and vertex \n",
            "\n",
            "Enter # of Feature You would like to use: 4\n",
            "A value: 3\n",
            "B value: 3\n",
            "C value: 3\n",
            "y =  3.0 x**2 +  3.0 x +  3.0\n",
            "Vertex: ( -0.5 , 2.25 )\n"
          ]
        },
        {
          "output_type": "display_data",
          "data": {
            "text/plain": [
              "<Figure size 640x480 with 1 Axes>"
            ],
            "image/png": "[encoded data removed]"
          },
          "metadata": {}
        }
      ]
    }
  ]
}